{
 "cells": [
  {
   "cell_type": "code",
   "execution_count": null,
   "metadata": {},
   "outputs": [],
   "source": [
    "import pandas as pd\n",
    "import numpy as np\n",
    "import matplotlib.pyplot as plt\n",
    "import seaborn as sns\n",
    "    \n",
    "players_teams = pd.read_csv('data/clean/cleaned_players_teams.csv')\n",
    "\n"
   ]
  },
  {
   "cell_type": "markdown",
   "metadata": {},
   "source": [
    "### Calculate the Power Ranking of a Player\n"
   ]
  },
  {
   "cell_type": "markdown",
   "metadata": {},
   "source": [
    "#### 1.Power Ranking of a Player in Regular Season"
   ]
  },
  {
   "cell_type": "markdown",
   "metadata": {},
   "source": [
    "- In this section, we will calculate the power ranking of a player in the regular season. The power ranking of a player process is as follows:\n",
    "- "
   ]
  },
  {
   "cell_type": "code",
   "execution_count": null,
   "metadata": {},
   "outputs": [],
   "source": [
    "# playerID,year,stint,tmID,GP,GS,minutes,points,oRebounds,dRebounds,rebounds,assists,steals,blocks,turnovers,PF,fgAttempted,fgMade,ftAttempted,ftMade,threeAttempted,threeMade,dq,PostGP,PostGS,PostMinutes,PostPoints,PostoRebounds,PostdRebounds,PostRebounds,PostAssists,PostSteals,PostBlocks,PostTurnovers,PostPF,PostfgAttempted,PostfgMade,PostftAttempted,PostftMade,PostthreeAttempted,PostthreeMade,PostDQ,award_ASGMVP,award_DPOTY,award_KPS,award_MIP,award_MVP,award_ROTY,award_SWOTY,award_WFMVP,award_WADT,award_WADTHM\n",
    "\n",
    "# Create Features Analysis\n",
    "\n",
    "# Points per minute (PPM)\n",
    "players_teams['PPM'] = round((players_teams['points'] + players_teams['PostPoints']) / (players_teams['minutes'] + players_teams['PostMinutes']), 2)\n",
    "\n",
    "# Rebounds per minute (RPM)\n",
    "players_teams['RPM'] = round((players_teams['rebounds'] + players_teams['PostRebounds']) / (players_teams['minutes'] + players_teams['PostMinutes']), 2)\n",
    "\n",
    "# Assists per minute (APM)\n",
    "players_teams['APM'] = round((players_teams['assists'] + players_teams['PostAssists']) / (players_teams['minutes'] + players_teams['PostMinutes']), 2)\n",
    "\n",
    "# Steals per minute (SPM)\n",
    "players_teams['SPM'] = round((players_teams['steals'] + players_teams['PostSteals']) / (players_teams['minutes'] + players_teams['PostMinutes']), 2)\n",
    "\n",
    "# Blocks per minute (BPM)\n",
    "players_teams['BPM'] = round((players_teams['blocks'] + players_teams['PostBlocks']) / (players_teams['minutes'] + players_teams['PostMinutes']), 2)\n",
    "\n",
    "# Turnovers per minute (TPM)\n",
    "players_teams['TPM'] = round((players_teams['turnovers'] + players_teams['PostTurnovers']) / (players_teams['minutes'] + players_teams['PostMinutes']), 2)\n",
    "\n",
    "# Offensive Rebounds per minute (ORPM)\n",
    "players_teams['ORPM'] = round((players_teams['oRebounds'] + players_teams['PostoRebounds']) / (players_teams['minutes'] + players_teams['PostMinutes']), 2)\n",
    "\n",
    "# Defensive Rebounds per minute (DRPM)\n",
    "players_teams['DRPM'] = round((players_teams['dRebounds'] + players_teams['PostdRebounds']) / (players_teams['minutes'] + players_teams['PostMinutes']), 2)\n",
    "\n",
    "# Assists to Turnover Ratio (ATR)\n",
    "players_teams['ATR'] = round((players_teams['assists'] + players_teams['PostAssists']) / (players_teams['turnovers'] + players_teams['PostTurnovers']), 2)\n",
    "\n",
    "# Field Goal Percentage (FG%)\n",
    "players_teams['FG%'] = round((players_teams['fgMade'] + players_teams['PostfgMade']) / (players_teams['fgAttempted'] + players_teams['PostfgAttempted']) * 100, 2)\n",
    "\n",
    "# Free Throw Percentage (FT%)\n",
    "players_teams['FT%'] = round((players_teams['ftMade'] + players_teams['PostftMade']) / (players_teams['ftAttempted'] + players_teams['PostftAttempted']) * 100, 2)\n",
    "\n",
    "# Three Point Percentage (3P%)\n",
    "players_teams['3P%'] = round((players_teams['threeMade'] + players_teams['PostthreeMade']) / (players_teams['threeAttempted'] + players_teams['PostthreeAttempted']) * 100, 2)\n",
    "\n",
    "# Personal Fouls per Minute (PFPM)\n",
    "players_teams['PFPM'] = round((players_teams['PF'] + players_teams['PostPF']) / (players_teams['minutes'] + players_teams['PostMinutes']), 2)\n",
    "\n",
    "# Desqualifications per Game (DQPG)\n",
    "players_teams['DQPG'] = round((players_teams['dq'] + players_teams['PostDQ']) / (players_teams['GP'] + players_teams['PostGP']), 2)\n",
    "\n",
    "\n",
    "#players_teams.drop(['oRebounds', 'dRebounds', 'rebounds', 'assists', 'steals', 'blocks', 'turnovers', 'PF', 'fgAttempted', 'fgMade', 'ftAttempted', 'ftMade', 'threeAttempted', 'threeMade', 'dq',\n",
    "#                    'PostoRebounds', 'PostdRebounds', 'PostRebounds', 'PostAssists', 'PostSteals', 'PostBlocks', 'PostTurnovers', 'PostPF', 'PostfgAttempted', 'PostfgMade', 'PostftAttempted', 'PostftMade', 'PostthreeAttempted', 'PostthreeMade', 'PostDQ'], axis=1, inplace=True)\n",
    "\n"
   ]
  },
  {
   "cell_type": "code",
   "execution_count": 8,
   "metadata": {},
   "outputs": [],
   "source": [
    "# Cálculo aproximado do PER usando estatísticas brutas\n",
    "players_teams['PER'] = (\n",
    "    (players_teams['points'] + players_teams['PostPoints'] +\n",
    "     0.7 * (players_teams['oRebounds'] + players_teams['PostoRebounds'] + players_teams['dRebounds'] + players_teams['PostdRebounds']) +\n",
    "     0.7 * (players_teams['assists'] + players_teams['PostAssists']) +\n",
    "     0.7 * (players_teams['steals'] + players_teams['PostSteals']) +\n",
    "     0.7 * (players_teams['blocks'] + players_teams['PostBlocks']) -\n",
    "     0.7 * (players_teams['turnovers'] + players_teams['PostTurnovers']) -\n",
    "     0.4 * (players_teams['FG%'] * 0.01 * (players_teams['fgAttempted'] + players_teams['PostfgAttempted']) -\n",
    "            (players_teams['fgMade'] + players_teams['PostfgMade'])) -\n",
    "     0.4 * (players_teams['FT%'] * 0.01 * (players_teams['ftAttempted'] + players_teams['PostftAttempted']) -\n",
    "            (players_teams['ftMade'] + players_teams['PostftMade']))) /\n",
    "    (players_teams['minutes'] + players_teams['PostMinutes'])\n",
    ")\n",
    "\n",
    "players_teams.to_csv('data/processed/processed_players_team.csv', index=False)\n",
    "\n"
   ]
  }
 ],
 "metadata": {
  "kernelspec": {
   "display_name": "Python 3",
   "language": "python",
   "name": "python3"
  },
  "language_info": {
   "codemirror_mode": {
    "name": "ipython",
    "version": 3
   },
   "file_extension": ".py",
   "mimetype": "text/x-python",
   "name": "python",
   "nbconvert_exporter": "python",
   "pygments_lexer": "ipython3",
   "version": "3.11.9"
  }
 },
 "nbformat": 4,
 "nbformat_minor": 2
}
