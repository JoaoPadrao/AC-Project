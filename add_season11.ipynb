{
 "cells": [
  {
   "cell_type": "code",
   "execution_count": 3,
   "metadata": {},
   "outputs": [],
   "source": [
    "import pandas as pd\n",
    "\n",
    "coaches = pd.read_csv('data/clean/cleaned_coaches.csv')\n",
    "players_teams = pd.read_csv('data/clean/cleaned_players_teams.csv')\n",
    "teams = pd.read_csv('data/clean/cleaned_teams.csv')\n"
   ]
  },
  {
   "cell_type": "markdown",
   "metadata": {},
   "source": [
    "### Update coaches dataset"
   ]
  },
  {
   "cell_type": "code",
   "execution_count": 4,
   "metadata": {},
   "outputs": [],
   "source": [
    "coaches_season11 = pd.read_csv('data/season11/coaches.csv')\n",
    "\n",
    "coaches_season11 = coaches_season11.drop(columns=['lgID','stint'])\n",
    "\n",
    "coaches = pd.concat([coaches, coaches_season11], ignore_index=True)\n",
    "\n",
    "coaches.to_csv('data/clean/cleaned_coaches.csv', index=False)"
   ]
  },
  {
   "cell_type": "markdown",
   "metadata": {},
   "source": [
    "### Update players_teams dataset"
   ]
  },
  {
   "cell_type": "code",
   "execution_count": 5,
   "metadata": {},
   "outputs": [],
   "source": [
    "players_teams_season11 = pd.read_csv('data/season11/players_teams.csv')\n",
    "\n",
    "players_teams_season11 = players_teams_season11.drop(columns=['lgID'])\n",
    "\n",
    "players_teams = pd.concat([players_teams, players_teams_season11], ignore_index=True)\n",
    "\n",
    "players_teams.to_csv('data/clean/cleaned_players_teams.csv', index=False)"
   ]
  },
  {
   "cell_type": "markdown",
   "metadata": {},
   "source": [
    "### Update teams dataset"
   ]
  },
  {
   "cell_type": "code",
   "execution_count": 6,
   "metadata": {},
   "outputs": [],
   "source": [
    "teams_season11 = pd.read_csv('data/season11/teams.csv')\n",
    "\n",
    "teams_season11 = teams_season11.drop(columns=['lgID','name','arena'])\n",
    "\n",
    "teams = pd.concat([teams, teams_season11], ignore_index=True)\n",
    "\n",
    "teams.to_csv('data/clean/cleaned_teams.csv', index=False)"
   ]
  }
 ],
 "metadata": {
  "kernelspec": {
   "display_name": "Python 3",
   "language": "python",
   "name": "python3"
  },
  "language_info": {
   "codemirror_mode": {
    "name": "ipython",
    "version": 3
   },
   "file_extension": ".py",
   "mimetype": "text/x-python",
   "name": "python",
   "nbconvert_exporter": "python",
   "pygments_lexer": "ipython3",
   "version": "3.11.9"
  }
 },
 "nbformat": 4,
 "nbformat_minor": 2
}
