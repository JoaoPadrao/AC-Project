{
 "cells": [
  {
   "cell_type": "code",
   "execution_count": 5,
   "metadata": {},
   "outputs": [],
   "source": [
    "import pandas as pd\n",
    "players = pd.read_csv('data/clean/cleaned_players.csv')\n"
   ]
  },
  {
   "cell_type": "markdown",
   "metadata": {},
   "source": [
    "### Variable Transformation for Height and Weight "
   ]
  },
  {
   "cell_type": "code",
   "execution_count": 6,
   "metadata": {},
   "outputs": [],
   "source": [
    "def convert_height_to_cm(height):\n",
    "    height = int(height)\n",
    "    return int(height * 2.54)\n",
    "\n",
    "def convert_weight_to_kg(weight):\n",
    "    weight = int(weight)\n",
    "    return int(weight * 0.453592)\n",
    "\n",
    "players['height'] = players['height'].apply(convert_height_to_cm)\n",
    "players['weight'] = players['weight'].apply(convert_weight_to_kg)"
   ]
  },
  {
   "cell_type": "markdown",
   "metadata": {},
   "source": [
    "### Outliers Handling for Height and Weight"
   ]
  },
  {
   "cell_type": "code",
   "execution_count": 7,
   "metadata": {},
   "outputs": [
    {
     "name": "stdout",
     "output_type": "stream",
     "text": [
      "{'C': 191, 'F': 185, 'G': 174}\n",
      "{'C': 81, 'F': 74, 'G': 65}\n"
     ]
    }
   ],
   "source": [
    "# Put the Outliers to 0\n",
    "\n",
    "# Put the height values with <150 cm to 0\n",
    "\n",
    "players.loc[players['height'] < 150, 'height'] = 0\n",
    "\n",
    "# Put the weight values with <50 kg to 0\n",
    "\n",
    "players.loc[players['weight'] < 50, 'weight'] = 0\n",
    "\n",
    "# Fill the outliers with the average value by position\n",
    "\n",
    "# Get the average height and weight by position\n",
    "\n",
    "dict_pos_height = {}\n",
    "dict_pos_weight = {}\n",
    "for index, row in players.iterrows():\n",
    "    if '-' in row['pos']:\n",
    "        pos = row['pos'].split('-')\n",
    "        pos1 = pos[0]\n",
    "        pos2 = pos[1]\n",
    "        if pos1 not in dict_pos_height:\n",
    "            dict_pos_height[pos1] = []\n",
    "            dict_pos_weight[pos1] = []\n",
    "        if pos2 not in dict_pos_height:\n",
    "            dict_pos_height[pos2] = []\n",
    "            dict_pos_weight[pos2] = []\n",
    "        dict_pos_height[pos1].append(row['height'])\n",
    "        dict_pos_height[pos2].append(row['height'])\n",
    "        dict_pos_weight[pos1].append(row['weight'])\n",
    "        dict_pos_weight[pos2].append(row['weight'])\n",
    "    else:\n",
    "        if row['pos'] not in dict_pos_height:\n",
    "            dict_pos_height[row['pos']] = []\n",
    "            dict_pos_weight[row['pos']] = []\n",
    "        dict_pos_height[row['pos']].append(row['height'])\n",
    "        dict_pos_weight[row['pos']].append(row['weight'])\n",
    "\n",
    "average_height_by_position = {}\n",
    "\n",
    "for key in dict_pos_height:\n",
    "    average_height_by_position[key] = int(sum(dict_pos_height[key]) / len(dict_pos_height[key]))\n",
    "\n",
    "average_weight_by_position = {}\n",
    "\n",
    "for key in dict_pos_weight:\n",
    "    average_weight_by_position[key] = int(sum(dict_pos_weight[key]) / len(dict_pos_weight[key]))\n",
    "\n",
    "\n",
    "print(average_height_by_position)\n",
    "print(average_weight_by_position)\n",
    "\n",
    "\n",
    "# Fill the outliers with the average value by position\n",
    "\n",
    "for index, row in players.iterrows():\n",
    "    if row['height'] == 0:\n",
    "        if '-' in row['pos']:\n",
    "            pos = row['pos'].split('-')\n",
    "            pos1 = pos[0]\n",
    "            pos2 = pos[1]\n",
    "            players.at[index, 'height'] = int((average_height_by_position[pos1] + average_height_by_position[pos2]) / 2)\n",
    "        else:\n",
    "            players.at[index, 'height'] = average_height_by_position[row['pos']]\n",
    "    if row['weight'] == 0:\n",
    "        if '-' in row['pos']:\n",
    "            pos = row['pos'].split('-')\n",
    "            pos1 = pos[0]\n",
    "            pos2 = pos[1]\n",
    "            players.at[index, 'weight'] = int((average_weight_by_position[pos1] + average_weight_by_position[pos2]) / 2)\n",
    "        else:\n",
    "            players.at[index, 'weight'] = average_weight_by_position[row['pos']]\n"
   ]
  },
  {
   "cell_type": "markdown",
   "metadata": {},
   "source": [
    "### Save the data"
   ]
  },
  {
   "cell_type": "code",
   "execution_count": 8,
   "metadata": {},
   "outputs": [],
   "source": [
    "players.to_csv('data/clean/cleaned_players.csv', index=False)"
   ]
  }
 ],
 "metadata": {
  "kernelspec": {
   "display_name": "Python 3",
   "language": "python",
   "name": "python3"
  },
  "language_info": {
   "codemirror_mode": {
    "name": "ipython",
    "version": 3
   },
   "file_extension": ".py",
   "mimetype": "text/x-python",
   "name": "python",
   "nbconvert_exporter": "python",
   "pygments_lexer": "ipython3",
   "version": "3.12.3"
  }
 },
 "nbformat": 4,
 "nbformat_minor": 2
}
