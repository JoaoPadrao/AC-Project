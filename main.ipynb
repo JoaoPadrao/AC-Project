{
 "cells": [
  {
   "cell_type": "markdown",
   "metadata": {},
   "source": [
    "# Basketball Playoffs Qualification Prediction"
   ]
  },
  {
   "cell_type": "markdown",
   "metadata": {},
   "source": [
    "## Data Understanding - Information about the Dataset\n",
    "\n",
    "[**awards_players.csv**](data/original/awards_players.csv) - a table with 96 rows that relates players to awards across 10 seasons.\n",
    "| Column Name | Description                                  |\n",
    "|-------------|----------------------------------------------|\n",
    "| playerID    | A unique code assigned to each player.       |\n",
    "| award       | The award that the player won.               |\n",
    "| year        | The year that the player won the award.      |\n",
    "| lgID        | The league that the player won the award in. |\n",
    "\n",
    "\n",
    "\n",
    "[**coaches.csv**](data/original/coaches.csv) - a table with 163 rows that describes coaches who've managed teams across 10 seasons.\n",
    "| Column Name | Description                                           |\n",
    "|-------------|-------------------------------------------------------|\n",
    "| coachID     | A unique code assigned to each coach.                 |\n",
    "| year        | The year that the coach coached the team.             |\n",
    "| tmID        | The team that the coach coached.                      |\n",
    "| lgID        | The league that the coach coached in.                 |\n",
    "| stint       | The number of times the coach coached the team. ???   |\n",
    "| won         | The number of games the coach won in regular season.  |\n",
    "| lost        | The number of games the coach lost in regular season. |\n",
    "| post_wins   | The number of games the coach won in playoffs.        |\n",
    "| post_losses | The number of games the coach lost in playoffs.       |\n",
    "\n",
    "[**players.csv**](data/original/players.csv) - a table with 894 rows that contains all the details about the players.\n",
    "| Column Name  | Description                                  |\n",
    "|--------------|----------------------------------------------|\n",
    "| bioID        | A unique code assigned to each player.       |\n",
    "| pos          | The position that the player plays.          |\n",
    "| firstseason  | The year that the player started playing.    |\n",
    "| lastseason   | The year that the player stopped playing.    |\n",
    "| height       | The height of the player in inches.          | \n",
    "| weight       | The weight of the player in pounds.          |\n",
    "| college      | The college that the player attended.        |\n",
    "| collegeOther | The other colleges that the player attended. |\n",
    "| birthDate    | The birth date of the player.                |\n",
    "| deathDate    | The death date of the player.                |\n",
    "\n",
    "\n",
    "\n",
    "[**players_teams.csv**](data/original/players_teams.csv) - a table with 1877 that describes the performance of each player for each team they played.\n",
    "| Column Name | Description                                           |\n",
    "|-------------|-------------------------------------------------------|\n",
    "| playerID    | A unique code assigned to each player.                |\n",
    "| year        | The year that the player played for the team.         |\n",
    "| stint       | The number of times the player played for the team.?? |\n",
    "| tmID        | The team that the player played for.                  |\n",
    "| lgID        | The league that the player played in.                 |\n",
    "| GP          | The number of games the player played.                |\n",
    "| GS          | The number of games the player started.               |\n",
    "|...          | ...                                                   |\n",
    "\n",
    "[**series_post.csv**](data/original/series_post.csv) - a table with 71 rows that describes the series' results.\n",
    "| Column Name | Description                                 |\n",
    "|-------------|---------------------------------------------|\n",
    "| year        | The year that the series was played.        |\n",
    "| round       | The round of the series.                    |\n",
    "| series      | The series label.                           |\n",
    "| tmIDWinner  | The team that won the series.               |\n",
    "| lgIDWinner  | The league that the winning team played in. |\n",
    "| tmIDLoser   | The team that lost the series.              |\n",
    "| lgIDLoser   | The league that the losing team played in.  |\n",
    "| W           | The number of games the winning team won.   |\n",
    "| L           | The number of games the losing team won.    |\n",
    "\n",
    "[**teams.csv**](data/original/teams.csv) - a table with 143 rows that describes the performance of teams for each season.\n",
    "| Column Name | Description                                             |\n",
    "|-------------|---------------------------------------------------------|\n",
    "| year        | The year that the team played.                          |\n",
    "| lgID        | The league that the team played in.                     |\n",
    "| tmID        | The team code.                                          |\n",
    "| franchID    | The franchise code.                                     |\n",
    "| confID      | The conference code.                                    |\n",
    "| divID       | The division code.                                      |\n",
    "| rank        | The rank of the team in the season.                     |\n",
    "| playoff     | Whether the team qualified for the playoffs or not.     |\n",
    "| seeded      | Whether the team was seeded in the playoffs or not.     |\n",
    "| firstRound  | The result of the team in the first round of playoffs.  |\n",
    "| semis       | The result of the team in the semi-finals of playoffs.  |\n",
    "| finals      | The result of the team in the finals of playoffs.       |\n",
    "| name        | The name of the team.                                   |\n",
    "| o_fgm       | The number of field goals made by the team.             |\n",
    "| o_fga       | The number of field goals attempted by the team.        |\n",
    "| o_ftm       | The number of free throws made by the team.             |\n",
    "| o_fta       | The number of free throws attempted by the team.        |\n",
    "| o_3pm       | The number of three-point field goals made by the team. |\n",
    "| ...         | ...                                                     |\n",
    "\n",
    "[**teams_post.csv**](data/original/teams_post.csv) - a table with 81 rows that describes the results of each team at the post-season.\n",
    "| Column Name | Description                                             |\n",
    "|-------------|---------------------------------------------------------|\n",
    "| year        | The year that the team played.                          |\n",
    "| lgID        | The league that the team played in.                     |\n",
    "| W           | The number of games the team won in the post-season.    |\n",
    "| L           | The number of games the team lost in the post-season.   |\n",
    "\n",
    "\n",
    "\n",
    "\n",
    "\n",
    "\n",
    "\n",
    "\n"
   ]
  },
  {
   "cell_type": "markdown",
   "metadata": {},
   "source": [
    "## Data Exploration"
   ]
  },
  {
   "cell_type": "code",
   "execution_count": 1,
   "metadata": {},
   "outputs": [],
   "source": [
    "#Importing libraries\n",
    "import pandas as pd\n",
    "\n",
    "awards_players = pd.read_csv('data/original/awards_players.csv')\n",
    "coaches = pd.read_csv('data/original/coaches.csv')\n",
    "players_teams = pd.read_csv('data/original/players_teams.csv')\n",
    "players = pd.read_csv('data/original/players.csv')\n",
    "series_post = pd.read_csv('data/original/series_post.csv')\n",
    "teams_post = pd.read_csv('data/original/teams_post.csv')\n",
    "teams = pd.read_csv('data/original/teams.csv')"
   ]
  },
  {
   "cell_type": "markdown",
   "metadata": {},
   "source": [
    "#### Check for missing values"
   ]
  },
  {
   "cell_type": "code",
   "execution_count": 3,
   "metadata": {},
   "outputs": [
    {
     "name": "stdout",
     "output_type": "stream",
     "text": [
      "playerID    0\n",
      "award       0\n",
      "year        0\n",
      "lgID        0\n",
      "dtype: int64\n",
      "<class 'pandas.core.frame.DataFrame'>\n",
      "RangeIndex: 95 entries, 0 to 94\n",
      "Data columns (total 4 columns):\n",
      " #   Column    Non-Null Count  Dtype \n",
      "---  ------    --------------  ----- \n",
      " 0   playerID  95 non-null     object\n",
      " 1   award     95 non-null     object\n",
      " 2   year      95 non-null     int64 \n",
      " 3   lgID      95 non-null     object\n",
      "dtypes: int64(1), object(3)\n",
      "memory usage: 3.1+ KB\n",
      "None\n"
     ]
    }
   ],
   "source": [
    "# Check missing values\n",
    "print(awards_players.isnull().sum())\n",
    "print(awards_players.info())"
   ]
  },
  {
   "cell_type": "code",
   "execution_count": 4,
   "metadata": {},
   "outputs": [
    {
     "name": "stdout",
     "output_type": "stream",
     "text": [
      "coachID        0\n",
      "year           0\n",
      "tmID           0\n",
      "lgID           0\n",
      "stint          0\n",
      "won            0\n",
      "lost           0\n",
      "post_wins      0\n",
      "post_losses    0\n",
      "dtype: int64\n"
     ]
    }
   ],
   "source": [
    "print(coaches.isnull().sum())"
   ]
  },
  {
   "cell_type": "code",
   "execution_count": 5,
   "metadata": {},
   "outputs": [
    {
     "name": "stdout",
     "output_type": "stream",
     "text": [
      "playerID              0\n",
      "year                  0\n",
      "stint                 0\n",
      "tmID                  0\n",
      "lgID                  0\n",
      "GP                    0\n",
      "GS                    0\n",
      "minutes               0\n",
      "points                0\n",
      "oRebounds             0\n",
      "dRebounds             0\n",
      "rebounds              0\n",
      "assists               0\n",
      "steals                0\n",
      "blocks                0\n",
      "turnovers             0\n",
      "PF                    0\n",
      "fgAttempted           0\n",
      "fgMade                0\n",
      "ftAttempted           0\n",
      "ftMade                0\n",
      "threeAttempted        0\n",
      "threeMade             0\n",
      "dq                    0\n",
      "PostGP                0\n",
      "PostGS                0\n",
      "PostMinutes           0\n",
      "PostPoints            0\n",
      "PostoRebounds         0\n",
      "PostdRebounds         0\n",
      "PostRebounds          0\n",
      "PostAssists           0\n",
      "PostSteals            0\n",
      "PostBlocks            0\n",
      "PostTurnovers         0\n",
      "PostPF                0\n",
      "PostfgAttempted       0\n",
      "PostfgMade            0\n",
      "PostftAttempted       0\n",
      "PostftMade            0\n",
      "PostthreeAttempted    0\n",
      "PostthreeMade         0\n",
      "PostDQ                0\n",
      "dtype: int64\n"
     ]
    }
   ],
   "source": [
    "print(players_teams.isnull().sum())"
   ]
  },
  {
   "cell_type": "code",
   "execution_count": 6,
   "metadata": {},
   "outputs": [
    {
     "name": "stdout",
     "output_type": "stream",
     "text": [
      "bioID             0\n",
      "pos              78\n",
      "firstseason       0\n",
      "lastseason        0\n",
      "height            0\n",
      "weight            0\n",
      "college         167\n",
      "collegeOther    882\n",
      "birthDate         0\n",
      "deathDate         0\n",
      "dtype: int64\n"
     ]
    }
   ],
   "source": [
    "print(players.isnull().sum())"
   ]
  },
  {
   "cell_type": "code",
   "execution_count": 7,
   "metadata": {},
   "outputs": [
    {
     "name": "stdout",
     "output_type": "stream",
     "text": [
      "year          0\n",
      "round         0\n",
      "series        0\n",
      "tmIDWinner    0\n",
      "lgIDWinner    0\n",
      "tmIDLoser     0\n",
      "lgIDLoser     0\n",
      "W             0\n",
      "L             0\n",
      "dtype: int64\n"
     ]
    }
   ],
   "source": [
    "print(series_post.isnull().sum())"
   ]
  },
  {
   "cell_type": "code",
   "execution_count": 8,
   "metadata": {},
   "outputs": [
    {
     "name": "stdout",
     "output_type": "stream",
     "text": [
      "year    0\n",
      "tmID    0\n",
      "lgID    0\n",
      "W       0\n",
      "L       0\n",
      "dtype: int64\n"
     ]
    }
   ],
   "source": [
    "print(teams_post.isnull().sum())"
   ]
  },
  {
   "cell_type": "code",
   "execution_count": 9,
   "metadata": {},
   "outputs": [
    {
     "name": "stdout",
     "output_type": "stream",
     "text": [
      "year        0\n",
      "lgID        0\n",
      "tmID        0\n",
      "franchID    0\n",
      "confID      0\n",
      "           ..\n",
      "confW       0\n",
      "confL       0\n",
      "min         0\n",
      "attend      0\n",
      "arena       0\n",
      "Length: 61, dtype: int64\n"
     ]
    }
   ],
   "source": [
    "print(teams.isnull().sum())"
   ]
  },
  {
   "cell_type": "markdown",
   "metadata": {},
   "source": [
    "- We verified that there are only missing values in the dataset \"players.csv\" "
   ]
  },
  {
   "cell_type": "markdown",
   "metadata": {},
   "source": [
    "# Check for invalid values"
   ]
  }
 ],
 "metadata": {
  "kernelspec": {
   "display_name": "Python 3",
   "language": "python",
   "name": "python3"
  },
  "language_info": {
   "codemirror_mode": {
    "name": "ipython",
    "version": 3
   },
   "file_extension": ".py",
   "mimetype": "text/x-python",
   "name": "python",
   "nbconvert_exporter": "python",
   "pygments_lexer": "ipython3",
   "version": "3.12.3"
  }
 },
 "nbformat": 4,
 "nbformat_minor": 2
}
