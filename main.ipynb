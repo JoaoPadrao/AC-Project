{
 "cells": [
  {
   "cell_type": "markdown",
   "metadata": {},
   "source": [
    "# Basketball Playoffs Qualification Prediction"
   ]
  },
  {
   "cell_type": "markdown",
   "metadata": {},
   "source": [
    "## Data Understanding - Information about the Dataset\n",
    "\n",
    "[**awards_players.csv**](data/original/awards_players.csv) - a table with 95 rows that relates players to awards across 10 seasons.\n",
    "| Column Name | Description                                  |\n",
    "|-------------|----------------------------------------------|\n",
    "| playerID    | A unique code assigned to each player.       |\n",
    "| award       | The award that the player won.               |\n",
    "| year        | The year that the player won the award.      |\n",
    "| lgID        | The league that the player won the award in. |\n",
    "\n",
    "\n",
    "\n",
    "[**coaches.csv**](data/original/coaches.csv) - a table with 163 rows that describes coaches who've managed teams across 10 seasons.\n",
    "| Column Name | Description                                           |\n",
    "|-------------|-------------------------------------------------------|\n",
    "| coachID     | A unique code assigned to each coach.                 |\n",
    "| year        | The year that the coach coached the team.             |\n",
    "| tmID        | The team that the coach coached.                      |\n",
    "| lgID        | The league that the coach coached in.                 |\n",
    "| stint       | The number of times the coach coached the team. ???   |\n",
    "| won         | The number of games the coach won in regular season.  |\n",
    "| lost        | The number of games the coach lost in regular season. |\n",
    "| post_wins   | The number of games the coach won in playoffs.        |\n",
    "| post_losses | The number of games the coach lost in playoffs.       |\n",
    "\n",
    "[**players.csv**](data/original/players.csv) - a table with 894 rows that contains all the details about the players.\n",
    "| Column Name  | Description                                  |\n",
    "|--------------|----------------------------------------------|\n",
    "| bioID        | A unique code assigned to each player.       |\n",
    "| pos          | The position that the player plays.          |\n",
    "| firstseason  | The year that the player started playing.    |\n",
    "| lastseason   | The year that the player stopped playing.    |\n",
    "| height       | The height of the player in inches.          | \n",
    "| weight       | The weight of the player in pounds.          |\n",
    "| college      | The college that the player attended.        |\n",
    "| collegeOther | The other colleges that the player attended. |\n",
    "| birthDate    | The birth date of the player.                |\n",
    "| deathDate    | The death date of the player.                |\n",
    "\n",
    "\n",
    "\n",
    "[**players_teams.csv**](data/original/players_teams.csv) - a table with 1877 that describes the performance of each player for each team they played.\n",
    "| Column Name | Description                                           |\n",
    "|-------------|-------------------------------------------------------|\n",
    "| playerID    | A unique code assigned to each player.                |\n",
    "| year        | The year that the player played for the team.         |\n",
    "| stint       | The number of times the player played for the team.?? |\n",
    "| tmID        | The team that the player played for.                  |\n",
    "| lgID        | The league that the player played in.                 |\n",
    "| GP          | The number of games the player played.                |\n",
    "| GS          | The number of games the player started.               |\n",
    "|...          | ...                                                   |\n",
    "\n",
    "[**series_post.csv**](data/original/series_post.csv) - a table with 71 rows that describes the series' results.\n",
    "| Column Name | Description                                 |\n",
    "|-------------|---------------------------------------------|\n",
    "| year        | The year that the series was played.        |\n",
    "| round       | The round of the series.                    |\n",
    "| series      | The series label.                           |\n",
    "| tmIDWinner  | The team that won the series.               |\n",
    "| lgIDWinner  | The league that the winning team played in. |\n",
    "| tmIDLoser   | The team that lost the series.              |\n",
    "| lgIDLoser   | The league that the losing team played in.  |\n",
    "| W           | The number of games the winning team won.   |\n",
    "| L           | The number of games the losing team won.    |\n",
    "\n",
    "[**teams.csv**](data/original/teams.csv) - a table with 143 rows that describes the performance of teams for each season.\n",
    "| Column Name | Description                                             |\n",
    "|-------------|---------------------------------------------------------|\n",
    "| year        | The year that the team played.                          |\n",
    "| lgID        | The league that the team played in.                     |\n",
    "| tmID        | The team code.                                          |\n",
    "| franchID    | The franchise code.                                     |\n",
    "| confID      | The conference code.                                    |\n",
    "| divID       | The division code.                                      |\n",
    "| rank        | The rank of the team in the season.                     |\n",
    "| playoff     | Whether the team qualified for the playoffs or not.     |\n",
    "| seeded      | Whether the team was seeded in the playoffs or not.     |\n",
    "| firstRound  | The result of the team in the first round of playoffs.  |\n",
    "| semis       | The result of the team in the semi-finals of playoffs.  |\n",
    "| finals      | The result of the team in the finals of playoffs.       |\n",
    "| name        | The name of the team.                                   |\n",
    "| o_fgm       | The number of field goals made by the team.             |\n",
    "| o_fga       | The number of field goals attempted by the team.        |\n",
    "| o_ftm       | The number of free throws made by the team.             |\n",
    "| o_fta       | The number of free throws attempted by the team.        |\n",
    "| o_3pm       | The number of three-point field goals made by the team. |\n",
    "| ...         | ...                                                     |\n",
    "\n",
    "[**teams_post.csv**](data/original/teams_post.csv) - a table with 81 rows that describes the results of each team at the post-season.\n",
    "| Column Name | Description                                             |\n",
    "|-------------|---------------------------------------------------------|\n",
    "| year        | The year that the team played.                          |\n",
    "| lgID        | The league that the team played in.                     |\n",
    "| W           | The number of games the team won in the post-season.    |\n",
    "| L           | The number of games the team lost in the post-season.   |\n",
    "\n",
    "\n",
    "\n",
    "\n",
    "\n",
    "\n",
    "\n",
    "\n"
   ]
  },
  {
   "cell_type": "markdown",
   "metadata": {},
   "source": [
    "## Data Collection"
   ]
  },
  {
   "cell_type": "code",
   "execution_count": 65,
   "metadata": {},
   "outputs": [],
   "source": [
    "#Importing libraries\n",
    "import pandas as pd\n",
    "\n",
    "awards_players = pd.read_csv('data/original/awards_players.csv')\n",
    "coaches = pd.read_csv('data/original/coaches.csv')\n",
    "players_teams = pd.read_csv('data/original/players_teams.csv')\n",
    "players = pd.read_csv('data/original/players.csv')\n",
    "series_post = pd.read_csv('data/original/series_post.csv')\n",
    "teams_post = pd.read_csv('data/original/teams_post.csv')\n",
    "teams = pd.read_csv('data/original/teams.csv')\n",
    "\n",
    "dataframes = {\n",
    "    'awards_players': awards_players,\n",
    "    'coaches': coaches,\n",
    "    'players_teams': players_teams,\n",
    "    'players': players,\n",
    "    'series_post': series_post,\n",
    "    'teams_post': teams_post,\n",
    "    'teams': teams\n",
    "}"
   ]
  },
  {
   "cell_type": "markdown",
   "metadata": {},
   "source": [
    "## Data Cleaning\n",
    "\n",
    "### Check for missing values"
   ]
  },
  {
   "cell_type": "code",
   "execution_count": 66,
   "metadata": {},
   "outputs": [
    {
     "name": "stdout",
     "output_type": "stream",
     "text": [
      "players has missing values in the following columns:\n",
      "\tpos: 78 missing values\n",
      "\tcollege: 167 missing values\n",
      "\tcollegeOther: 882 missing values\n",
      "\n",
      "teams has missing values in the following columns:\n",
      "\tdivID: 142 missing values\n",
      "\tfirstRound: 62 missing values\n",
      "\tsemis: 104 missing values\n",
      "\tfinals: 122 missing values\n",
      "\n"
     ]
    }
   ],
   "source": [
    "# Check missing values\n",
    "\n",
    "missing = False\n",
    "\n",
    "for name, df in dataframes.items():\n",
    "    if df.isnull().sum().sum() > 0:\n",
    "        missing = True\n",
    "        print(f'{name} has missing values in the following columns:')\n",
    "\n",
    "        missing_columns = df.isnull().sum()\n",
    "        for col, count in missing_columns.items():\n",
    "            if count > 0:\n",
    "                print('\\t', end='')\n",
    "                print(f'{col}: {count} missing values')\n",
    "        \n",
    "        print()\n",
    "\n",
    "if not missing:\n",
    "    print('No missing values found')"
   ]
  },
  {
   "cell_type": "markdown",
   "metadata": {},
   "source": [
    "We verified that there are only missing values in the datasets [players](data/original/players.csv) and [teams](data/original/teams.csv)."
   ]
  },
  {
   "cell_type": "markdown",
   "metadata": {},
   "source": [
    "# Check for invalid values"
   ]
  }
 ],
 "metadata": {
  "kernelspec": {
   "display_name": "Python 3",
   "language": "python",
   "name": "python3"
  },
  "language_info": {
   "codemirror_mode": {
    "name": "ipython",
    "version": 3
   },
   "file_extension": ".py",
   "mimetype": "text/x-python",
   "name": "python",
   "nbconvert_exporter": "python",
   "pygments_lexer": "ipython3",
   "version": "3.12.3"
  }
 },
 "nbformat": 4,
 "nbformat_minor": 2
}
