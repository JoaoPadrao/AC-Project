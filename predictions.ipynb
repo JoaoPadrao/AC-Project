{
 "cells": [
  {
   "cell_type": "code",
   "execution_count": 2,
   "metadata": {},
   "outputs": [],
   "source": [
    "import pandas as pd"
   ]
  },
  {
   "cell_type": "code",
   "execution_count": 3,
   "metadata": {},
   "outputs": [],
   "source": [
    "teams = pd.read_csv('data/clean/cleaned_teams.csv')\n",
    "players = pd.read_csv('data/clean/cleaned_players.csv')\n",
    "players_teams = pd.read_csv('data/clean/cleaned_players_teams.csv')"
   ]
  },
  {
   "cell_type": "code",
   "execution_count": null,
   "metadata": {},
   "outputs": [
    {
     "name": "stdout",
     "output_type": "stream",
     "text": [
      "     year tmID franchID confID  rank playoff firstRound semis finals  o_fgm  \\\n",
      "125     7  SEA      SEA     WE     4       Y          L   NaN    NaN    961   \n",
      "142     7  SEA      SEA     WE     2       Y          L   NaN    NaN    906   \n",
      "\n",
      "     ...  player_total_PostBlocks  player_total_PostTurnovers  \\\n",
      "125  ...                     16.0                        32.0   \n",
      "142  ...                      5.0                        30.0   \n",
      "\n",
      "     player_total_PostPF  player_total_PostfgAttempted  \\\n",
      "125                 49.0                         180.0   \n",
      "142                 55.0                         151.0   \n",
      "\n",
      "     player_total_PostfgMade  player_total_PostftAttempted  \\\n",
      "125                     68.0                          78.0   \n",
      "142                     59.0                          45.0   \n",
      "\n",
      "     player_total_PostftMade  player_total_PostthreeAttempted  \\\n",
      "125                     63.0                             64.0   \n",
      "142                     42.0                             46.0   \n",
      "\n",
      "     player_total_PostthreeMade  player_total_PostDQ  \n",
      "125                        18.0                  1.0  \n",
      "142                        10.0                  0.0  \n",
      "\n",
      "[2 rows x 89 columns]\n"
     ]
    }
   ],
   "source": [
    "def predict_team_year_stats(team_id, year, teams, players_teams, players):\n",
    "\n",
    "    # Select player ids for the team for that year\n",
    "    players_ids = players_teams[(players_teams['tmID'] == team_id) & (players_teams['year'] == year)]['playerID']    \n",
    "\n",
    "    # Select player stats for last year\n",
    "    team_players = players_teams[(players_teams['playerID'].isin(players_ids)) & (players_teams['year'] == year - 1)]\n",
    "    team_players_bio = players[(players['bioID'].isin(players_ids))]\n",
    "\n",
    "    # Verify if there is no data for the team in the previous year\n",
    "    # Aqui talvez colocar os valores medios dos rookies?\n",
    "    if team_players.empty:\n",
    "        print(f\"No player data for team {team_id} in year {year - 1}. Using default values.\")\n",
    "        return teams\n",
    "\n",
    "    # Copy the stats from the previous year into the new year    \n",
    "    predicted_stats = teams.loc[(teams['tmID'] == team_id) & (teams['year'] == year - 1)].copy()\n",
    "    if predicted_stats.empty:\n",
    "        print(f\"No team data for team {team_id} in year {year - 1}. Using default values.\") # Equipa nova\n",
    "        predicted_stats = pd.DataFrame([{'tmID': team_id, 'year': year - 1}])\n",
    "    predicted_stats['year'] = year\n",
    "\n",
    "    # Calculate the player stats\n",
    "    predicted_stats['player_average_height'] = team_players_bio['height'].mean()\n",
    "    predicted_stats['player_average_weight'] = team_players_bio['weight'].mean()\n",
    "    for stat in ['GP', 'GS', 'points', 'oRebounds', 'dRebounds', 'rebounds', 'assists', 'steals', 'blocks',\n",
    "                 'turnovers', 'PF', 'fgAttempted', 'fgMade', 'ftAttempted', 'ftMade', 'threeAttempted', 'threeMade',\n",
    "                 'dq', 'PostGP', 'PostGS', 'PostMinutes', 'PostPoints', 'PostoRebounds', 'PostdRebounds',\n",
    "                 'PostRebounds', 'PostAssists', 'PostSteals', 'PostBlocks', 'PostTurnovers', 'PostPF',\n",
    "                 'PostfgAttempted', 'PostfgMade', 'PostftAttempted', 'PostftMade', 'PostthreeAttempted',\n",
    "                 'PostthreeMade', 'PostDQ']:\n",
    "        predicted_stats[f'player_total_{stat}'] = team_players[stat].sum()\n",
    "\n",
    "    # Concatenate the new stats with the old ones\n",
    "    predicted_stats = pd.DataFrame([predicted_stats.squeeze()]) \n",
    "    updated_teams = pd.concat([teams, predicted_stats], ignore_index=True)\n",
    "\n",
    "    # Return the updated dataset\n",
    "    return updated_teams\n",
    "\n",
    "teams_updated = predict_team_year_stats(\n",
    "    team_id='SEA',\n",
    "    year=7,\n",
    "    teams=teams,\n",
    "    players_teams=players_teams,\n",
    "    players=players\n",
    ")\n",
    "\n",
    "print(teams_updated[(teams_updated['tmID'] == 'SEA') & (teams_updated['year'] == 7)])\n",
    "\n"
   ]
  }
 ],
 "metadata": {
  "kernelspec": {
   "display_name": "Python 3",
   "language": "python",
   "name": "python3"
  },
  "language_info": {
   "codemirror_mode": {
    "name": "ipython",
    "version": 3
   },
   "file_extension": ".py",
   "mimetype": "text/x-python",
   "name": "python",
   "nbconvert_exporter": "python",
   "pygments_lexer": "ipython3",
   "version": "3.11.9"
  }
 },
 "nbformat": 4,
 "nbformat_minor": 2
}
