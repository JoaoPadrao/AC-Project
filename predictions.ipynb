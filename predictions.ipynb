{
 "cells": [
  {
   "cell_type": "code",
   "execution_count": 40,
   "metadata": {},
   "outputs": [],
   "source": [
    "import pandas as pd"
   ]
  },
  {
   "cell_type": "code",
   "execution_count": 41,
   "metadata": {},
   "outputs": [],
   "source": [
    "teams = pd.read_csv('data/clean/cleaned_teams.csv')\n",
    "players = pd.read_csv('data/clean/cleaned_players.csv')\n",
    "players_teams = pd.read_csv('data/clean/cleaned_players_teams.csv')"
   ]
  },
  {
   "cell_type": "code",
   "execution_count": 42,
   "metadata": {},
   "outputs": [
    {
     "name": "stdout",
     "output_type": "stream",
     "text": [
      "     year tmID franchID confID  rank playoff firstRound semis finals  o_fgm  \\\n",
      "125     7  SEA      SEA     WE     4       Y          L   NaN    NaN    961   \n",
      "\n",
      "     ...  player_total_PostBlocks  player_total_PostTurnovers  \\\n",
      "125  ...                     16.0                        32.0   \n",
      "\n",
      "     player_total_PostPF  player_total_PostfgAttempted  \\\n",
      "125                 49.0                         180.0   \n",
      "\n",
      "     player_total_PostfgMade  player_total_PostftAttempted  \\\n",
      "125                     68.0                          78.0   \n",
      "\n",
      "     player_total_PostftMade  player_total_PostthreeAttempted  \\\n",
      "125                     63.0                             64.0   \n",
      "\n",
      "     player_total_PostthreeMade  player_total_PostDQ  \n",
      "125                        18.0                  1.0  \n",
      "\n",
      "[1 rows x 89 columns]\n"
     ]
    },
    {
     "ename": "ValueError",
     "evalue": "Must pass 2-d input. shape=(1, 1, 89)",
     "output_type": "error",
     "traceback": [
      "\u001b[0;31m---------------------------------------------------------------------------\u001b[0m",
      "\u001b[0;31mValueError\u001b[0m                                Traceback (most recent call last)",
      "\u001b[1;32m/home/daniel/Documents/uni/ac/AC-Project/predictions.ipynb Cell 3\u001b[0m line \u001b[0;36m6\n\u001b[1;32m     <a href='vscode-notebook-cell:/home/daniel/Documents/uni/ac/AC-Project/predictions.ipynb#W2sZmlsZQ%3D%3D?line=61'>62</a>\u001b[0m     \u001b[39mprint\u001b[39m(teams\u001b[39m.\u001b[39mloc[(teams[\u001b[39m'\u001b[39m\u001b[39mtmID\u001b[39m\u001b[39m'\u001b[39m] \u001b[39m==\u001b[39m team_id) \u001b[39m&\u001b[39m (teams[\u001b[39m'\u001b[39m\u001b[39myear\u001b[39m\u001b[39m'\u001b[39m] \u001b[39m==\u001b[39m year)])\n\u001b[1;32m     <a href='vscode-notebook-cell:/home/daniel/Documents/uni/ac/AC-Project/predictions.ipynb#W2sZmlsZQ%3D%3D?line=63'>64</a>\u001b[0m \u001b[39m# Run prediction\u001b[39;00m\n\u001b[0;32m---> <a href='vscode-notebook-cell:/home/daniel/Documents/uni/ac/AC-Project/predictions.ipynb#W2sZmlsZQ%3D%3D?line=64'>65</a>\u001b[0m predict_team_year_stats(\u001b[39m'\u001b[39;49m\u001b[39mSEA\u001b[39;49m\u001b[39m'\u001b[39;49m, \u001b[39m7\u001b[39;49m)\n",
      "\u001b[1;32m/home/daniel/Documents/uni/ac/AC-Project/predictions.ipynb Cell 3\u001b[0m line \u001b[0;36m5\n\u001b[1;32m     <a href='vscode-notebook-cell:/home/daniel/Documents/uni/ac/AC-Project/predictions.ipynb#W2sZmlsZQ%3D%3D?line=55'>56</a>\u001b[0m         predicted_stats[\u001b[39mf\u001b[39m\u001b[39m'\u001b[39m\u001b[39mplayer_total_\u001b[39m\u001b[39m{\u001b[39;00mcolumn\u001b[39m}\u001b[39;00m\u001b[39m'\u001b[39m] \u001b[39m=\u001b[39m \u001b[39m0\u001b[39m  \u001b[39m# Default to 0 if column is missing\u001b[39;00m\n\u001b[1;32m     <a href='vscode-notebook-cell:/home/daniel/Documents/uni/ac/AC-Project/predictions.ipynb#W2sZmlsZQ%3D%3D?line=57'>58</a>\u001b[0m \u001b[39m# Append the new prediction to the teams DataFrame\u001b[39;00m\n\u001b[0;32m---> <a href='vscode-notebook-cell:/home/daniel/Documents/uni/ac/AC-Project/predictions.ipynb#W2sZmlsZQ%3D%3D?line=58'>59</a>\u001b[0m teams \u001b[39m=\u001b[39m pd\u001b[39m.\u001b[39mconcat([teams, pd\u001b[39m.\u001b[39;49mDataFrame([predicted_stats])], ignore_index\u001b[39m=\u001b[39m\u001b[39mTrue\u001b[39;00m)\n\u001b[1;32m     <a href='vscode-notebook-cell:/home/daniel/Documents/uni/ac/AC-Project/predictions.ipynb#W2sZmlsZQ%3D%3D?line=60'>61</a>\u001b[0m \u001b[39m# Debug: Check the updated team data\u001b[39;00m\n\u001b[1;32m     <a href='vscode-notebook-cell:/home/daniel/Documents/uni/ac/AC-Project/predictions.ipynb#W2sZmlsZQ%3D%3D?line=61'>62</a>\u001b[0m \u001b[39mprint\u001b[39m(teams\u001b[39m.\u001b[39mloc[(teams[\u001b[39m'\u001b[39m\u001b[39mtmID\u001b[39m\u001b[39m'\u001b[39m] \u001b[39m==\u001b[39m team_id) \u001b[39m&\u001b[39m (teams[\u001b[39m'\u001b[39m\u001b[39myear\u001b[39m\u001b[39m'\u001b[39m] \u001b[39m==\u001b[39m year)])\n",
      "File \u001b[0;32m/usr/lib/python3/dist-packages/pandas/core/frame.py:822\u001b[0m, in \u001b[0;36mDataFrame.__init__\u001b[0;34m(self, data, index, columns, dtype, copy)\u001b[0m\n\u001b[1;32m    814\u001b[0m         mgr \u001b[39m=\u001b[39m arrays_to_mgr(\n\u001b[1;32m    815\u001b[0m             arrays,\n\u001b[1;32m    816\u001b[0m             columns,\n\u001b[0;32m   (...)\u001b[0m\n\u001b[1;32m    819\u001b[0m             typ\u001b[39m=\u001b[39mmanager,\n\u001b[1;32m    820\u001b[0m         )\n\u001b[1;32m    821\u001b[0m     \u001b[39melse\u001b[39;00m:\n\u001b[0;32m--> 822\u001b[0m         mgr \u001b[39m=\u001b[39m ndarray_to_mgr(\n\u001b[1;32m    823\u001b[0m             data,\n\u001b[1;32m    824\u001b[0m             index,\n\u001b[1;32m    825\u001b[0m             columns,\n\u001b[1;32m    826\u001b[0m             dtype\u001b[39m=\u001b[39;49mdtype,\n\u001b[1;32m    827\u001b[0m             copy\u001b[39m=\u001b[39;49mcopy,\n\u001b[1;32m    828\u001b[0m             typ\u001b[39m=\u001b[39;49mmanager,\n\u001b[1;32m    829\u001b[0m         )\n\u001b[1;32m    830\u001b[0m \u001b[39melse\u001b[39;00m:\n\u001b[1;32m    831\u001b[0m     mgr \u001b[39m=\u001b[39m dict_to_mgr(\n\u001b[1;32m    832\u001b[0m         {},\n\u001b[1;32m    833\u001b[0m         index,\n\u001b[0;32m   (...)\u001b[0m\n\u001b[1;32m    836\u001b[0m         typ\u001b[39m=\u001b[39mmanager,\n\u001b[1;32m    837\u001b[0m     )\n",
      "File \u001b[0;32m/usr/lib/python3/dist-packages/pandas/core/internals/construction.py:319\u001b[0m, in \u001b[0;36mndarray_to_mgr\u001b[0;34m(values, index, columns, dtype, copy, typ)\u001b[0m\n\u001b[1;32m    314\u001b[0m     values \u001b[39m=\u001b[39m _ensure_2d(values)\n\u001b[1;32m    316\u001b[0m \u001b[39melse\u001b[39;00m:\n\u001b[1;32m    317\u001b[0m     \u001b[39m# by definition an array here\u001b[39;00m\n\u001b[1;32m    318\u001b[0m     \u001b[39m# the dtypes will be coerced to a single dtype\u001b[39;00m\n\u001b[0;32m--> 319\u001b[0m     values \u001b[39m=\u001b[39m _prep_ndarraylike(values, copy\u001b[39m=\u001b[39;49mcopy_on_sanitize)\n\u001b[1;32m    321\u001b[0m \u001b[39mif\u001b[39;00m dtype \u001b[39mis\u001b[39;00m \u001b[39mnot\u001b[39;00m \u001b[39mNone\u001b[39;00m \u001b[39mand\u001b[39;00m values\u001b[39m.\u001b[39mdtype \u001b[39m!=\u001b[39m dtype:\n\u001b[1;32m    322\u001b[0m     \u001b[39m# GH#40110 see similar check inside sanitize_array\u001b[39;00m\n\u001b[1;32m    323\u001b[0m     values \u001b[39m=\u001b[39m sanitize_array(\n\u001b[1;32m    324\u001b[0m         values,\n\u001b[1;32m    325\u001b[0m         \u001b[39mNone\u001b[39;00m,\n\u001b[0;32m   (...)\u001b[0m\n\u001b[1;32m    328\u001b[0m         allow_2d\u001b[39m=\u001b[39m\u001b[39mTrue\u001b[39;00m,\n\u001b[1;32m    329\u001b[0m     )\n",
      "File \u001b[0;32m/usr/lib/python3/dist-packages/pandas/core/internals/construction.py:582\u001b[0m, in \u001b[0;36m_prep_ndarraylike\u001b[0;34m(values, copy)\u001b[0m\n\u001b[1;32m    579\u001b[0m \u001b[39melse\u001b[39;00m:\n\u001b[1;32m    580\u001b[0m     values \u001b[39m=\u001b[39m convert(values)\n\u001b[0;32m--> 582\u001b[0m \u001b[39mreturn\u001b[39;00m _ensure_2d(values)\n",
      "File \u001b[0;32m/usr/lib/python3/dist-packages/pandas/core/internals/construction.py:592\u001b[0m, in \u001b[0;36m_ensure_2d\u001b[0;34m(values)\u001b[0m\n\u001b[1;32m    590\u001b[0m     values \u001b[39m=\u001b[39m values\u001b[39m.\u001b[39mreshape((values\u001b[39m.\u001b[39mshape[\u001b[39m0\u001b[39m], \u001b[39m1\u001b[39m))\n\u001b[1;32m    591\u001b[0m \u001b[39melif\u001b[39;00m values\u001b[39m.\u001b[39mndim \u001b[39m!=\u001b[39m \u001b[39m2\u001b[39m:\n\u001b[0;32m--> 592\u001b[0m     \u001b[39mraise\u001b[39;00m \u001b[39mValueError\u001b[39;00m(\u001b[39mf\u001b[39m\u001b[39m\"\u001b[39m\u001b[39mMust pass 2-d input. shape=\u001b[39m\u001b[39m{\u001b[39;00mvalues\u001b[39m.\u001b[39mshape\u001b[39m}\u001b[39;00m\u001b[39m\"\u001b[39m)\n\u001b[1;32m    593\u001b[0m \u001b[39mreturn\u001b[39;00m values\n",
      "\u001b[0;31mValueError\u001b[0m: Must pass 2-d input. shape=(1, 1, 89)"
     ]
    }
   ],
   "source": [
    "def predict_team_year_stats(team_id, year): \n",
    "    # Select player ids for the team for that year\n",
    "    players_ids = players_teams[(players_teams['tmID'] == team_id) & (players_teams['year'] == year)]['playerID']\n",
    "    \n",
    "    # Select player stats for last year\n",
    "    team_players = players_teams[(players_teams['playerID'].isin(players_ids)) & (players_teams['year'] == year - 1)]\n",
    "    team_players_bio = players[(players['bioID'].isin(players_ids))]\n",
    "\n",
    "    \n",
    "    print(teams.loc[(teams['tmID'] == team_id) & (teams['year'] == year)])\n",
    "    \n",
    "    # Copy the stats from the previous year into the new year    \n",
    "    predicted_stats = teams.loc[(teams['tmID'] == team_id) & (teams['year'] == year - 1)].copy()\n",
    "    predicted_stats['year'] = year \n",
    "       \n",
    "    # Calculate the player stats\n",
    "    predicted_stats['player_average_height'] = team_players_bio['height'].mean()\n",
    "    predicted_stats['player_average_weight'] = team_players_bio['weight'].mean()\n",
    "    predicted_stats['player_total_GP'] = team_players['GP'].sum()\n",
    "    predicted_stats['player_total_GS'] = team_players['GS'].sum()\n",
    "    predicted_stats['player_total_points'] = team_players['points'].sum()\n",
    "    predicted_stats['player_total_oRebounds'] = team_players['oRebounds'].sum()\n",
    "    predicted_stats['player_total_dRebounds'] = team_players['dRebounds'].sum()\n",
    "    predicted_stats['player_total_rebounds'] = team_players['rebounds'].sum()\n",
    "    predicted_stats['player_total_assists'] = team_players['assists'].sum()\n",
    "    predicted_stats['player_total_steals'] = team_players['steals'].sum()\n",
    "    predicted_stats['player_total_blocks'] = team_players['blocks'].sum()\n",
    "    predicted_stats['player_total_turnovers'] = team_players['turnovers'].sum()\n",
    "    predicted_stats['player_total_PF'] = team_players['PF'].sum()\n",
    "    predicted_stats['player_total_fgAttempted'] = team_players['fgAttempted'].sum()\n",
    "    predicted_stats['player_total_fgMade'] = team_players['fgMade'].sum()\n",
    "    predicted_stats['player_total_ftAttempted'] = team_players['ftAttempted'].sum()\n",
    "    predicted_stats['player_total_ftMade'] = team_players['ftMade'].sum()\n",
    "    predicted_stats['player_total_threeAttempted'] = team_players['threeAttempted'].sum()\n",
    "    predicted_stats['player_total_threeMade'] = team_players['threeMade'].sum()\n",
    "    predicted_stats['player_total_dq'] = team_players['dq'].sum()\n",
    "    predicted_stats['player_total_PostGP'] = team_players['PostGP'].sum()\n",
    "    predicted_stats['player_total_PostGS'] = team_players['PostGS'].sum()\n",
    "    predicted_stats['player_total_PostMinutes'] = team_players['PostMinutes'].sum()\n",
    "    predicted_stats['player_total_PostPoints'] = team_players['PostPoints'].sum()\n",
    "    predicted_stats['player_total_PostoRebounds'] = team_players['PostoRebounds'].sum()\n",
    "    predicted_stats['player_total_PostdRebounds'] = team_players['PostdRebounds'].sum()\n",
    "    predicted_stats['player_total_PostRebounds'] = team_players['PostRebounds'].sum()\n",
    "    predicted_stats['player_total_PostAssists'] = team_players['PostAssists'].sum()\n",
    "    predicted_stats['player_total_PostSteals'] = team_players['PostSteals'].sum()\n",
    "    predicted_stats['player_total_PostBlocks'] = team_players['PostBlocks'].sum()\n",
    "    predicted_stats['player_total_PostTurnovers'] = team_players['PostTurnovers'].sum()\n",
    "    predicted_stats['player_total_PostPF'] = team_players['PostPF'].sum()\n",
    "    predicted_stats['player_total_PostfgAttempted'] = team_players['PostfgAttempted'].sum()\n",
    "    predicted_stats['player_total_PostfgMade'] = team_players['PostfgMade'].sum()\n",
    "    predicted_stats['player_total_PostftAttempted'] = team_players['PostftAttempted'].sum()\n",
    "    predicted_stats['player_total_PostftMade'] = team_players['PostftMade'].sum()\n",
    "    predicted_stats['player_total_PostthreeAttempted'] = team_players['PostthreeAttempted'].sum()\n",
    "    predicted_stats['player_total_PostthreeMade'] = team_players['PostthreeMade'].sum()\n",
    "    predicted_stats['player_total_PostDQ'] = team_players['PostDQ'].sum()\n",
    "    \n",
    "    teams = pd.concat([teams, pd.DataFrame([predicted_stats])], ignore_index=True)\n",
    "    \n",
    "    print(teams.loc[(teams['tmID'] == team_id) & (teams['year'] == year)])\n",
    "    \n",
    "\n",
    "predict_team_year_stats('SEA', 7)\n",
    "    "
   ]
  }
 ],
 "metadata": {
  "kernelspec": {
   "display_name": "Python 3",
   "language": "python",
   "name": "python3"
  },
  "language_info": {
   "codemirror_mode": {
    "name": "ipython",
    "version": 3
   },
   "file_extension": ".py",
   "mimetype": "text/x-python",
   "name": "python",
   "nbconvert_exporter": "python",
   "pygments_lexer": "ipython3",
   "version": "3.12.3"
  }
 },
 "nbformat": 4,
 "nbformat_minor": 2
}
