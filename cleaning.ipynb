{
 "cells": [
  {
   "cell_type": "code",
   "execution_count": 2,
   "metadata": {},
   "outputs": [],
   "source": [
    "import pandas as pd"
   ]
  },
  {
   "cell_type": "markdown",
   "metadata": {},
   "source": [
    "## Cleaning teams.csv"
   ]
  },
  {
   "cell_type": "code",
   "execution_count": 7,
   "metadata": {},
   "outputs": [],
   "source": [
    "teams = pd.read_csv('data/original/teams.csv')\n",
    "\n",
    "# Drop the columns that are not needed\n",
    "\n",
    "teams = teams.drop(columns=['lgID', 'franchID', 'seeded', 'arena', 'name', 'tmORB', 'tmDRB', 'tmTRB', 'opptmORB', 'opptmDRB', 'opptmTRB'])\n",
    "\n",
    "# Write into onto data/clean/cleaned_teams.csv\n",
    "\n",
    "teams.to_csv('data/clean/cleaned_teams.csv', index=False)"
   ]
  },
  {
   "cell_type": "markdown",
   "metadata": {},
   "source": [
    "## Cleaning players.csv"
   ]
  },
  {
   "cell_type": "code",
   "execution_count": 8,
   "metadata": {},
   "outputs": [],
   "source": [
    "players = pd.read_csv('data/original/players.csv')\n",
    "\n",
    "# Drop the columns that are not needed\n",
    "\n",
    "players = players.drop(columns=['firstseason', 'lastseason', 'college', 'collegeOther'])\n",
    "\n",
    "# Write into onto data/clean/cleaned_players.csv\n",
    "\n",
    "players.to_csv('data/clean/cleaned_players.csv', index=False)"
   ]
  },
  {
   "cell_type": "markdown",
   "metadata": {},
   "source": [
    "## Cleaning coaches.csv"
   ]
  },
  {
   "cell_type": "code",
   "execution_count": 9,
   "metadata": {},
   "outputs": [],
   "source": [
    "coaches = pd.read_csv('data/original/coaches.csv')\n",
    "\n",
    "# Drop the columns that are not needed\n",
    "\n",
    "coaches = coaches.drop(columns=['lgID'])\n",
    "\n",
    "# Write into onto data/clean/cleaned_coaches.csv\n",
    "\n",
    "coaches.to_csv('data/clean/cleaned_coaches.csv', index=False)"
   ]
  },
  {
   "cell_type": "markdown",
   "metadata": {},
   "source": [
    "## Cleaning players_teams.csv"
   ]
  },
  {
   "cell_type": "code",
   "execution_count": 12,
   "metadata": {},
   "outputs": [],
   "source": [
    "players_teams = pd.read_csv('data/original/players_teams.csv')\n",
    "\n",
    "# Drop the columns that are not needed\n",
    "\n",
    "players_teams = players_teams.drop(columns=['lgID'])\n",
    "\n",
    "# Write into onto data/clean/cleaned_players_teams.csv\n",
    "\n",
    "players_teams.to_csv('data/clean/cleaned_players_teams.csv', index=False)"
   ]
  },
  {
   "cell_type": "markdown",
   "metadata": {},
   "source": [
    "## Cleaning series_post.csv"
   ]
  },
  {
   "cell_type": "code",
   "execution_count": 14,
   "metadata": {},
   "outputs": [],
   "source": [
    "series_post = pd.read_csv('data/original/series_post.csv')\n",
    "\n",
    "# Drop the columns that are not needed\n",
    "\n",
    "series_post = series_post.drop(columns=['lgIDWinner', 'lgIDLoser'])\n",
    "\n",
    "# Write into onto data/clean/cleaned_series_post.csv\n",
    "\n",
    "series_post.to_csv('data/clean/cleaned_series_post.csv', index=False)"
   ]
  },
  {
   "cell_type": "markdown",
   "metadata": {},
   "source": [
    "## Cleaning awards_players.csv"
   ]
  },
  {
   "cell_type": "code",
   "execution_count": 15,
   "metadata": {},
   "outputs": [],
   "source": [
    "awards_players = pd.read_csv('data/original/awards_players.csv')\n",
    "\n",
    "# Drop the columns that are not needed\n",
    "\n",
    "awards_players = awards_players.drop(columns=['lgID'])\n",
    "\n",
    "# Write into onto data/clean/cleaned_awards_players.csv\n",
    "\n",
    "awards_players.to_csv('data/clean/cleaned_awards_players.csv', index=False)"
   ]
  },
  {
   "cell_type": "markdown",
   "metadata": {},
   "source": [
    "## Cleaning teams_post.csv"
   ]
  },
  {
   "cell_type": "code",
   "execution_count": null,
   "metadata": {},
   "outputs": [],
   "source": [
    "teams_post = pd.read_csv('data/original/teams_post.csv')\n",
    "\n",
    "# Drop the columns that are not needed\n",
    "\n",
    "teams_post = teams_post.drop(columns=['lgID'])\n",
    "\n",
    "# Write into onto data/clean/cleaned_teams_post.csv\n",
    "\n",
    "teams_post.to_csv('data/clean/cleaned_teams_post.csv', index=False)"
   ]
  }
 ],
 "metadata": {
  "kernelspec": {
   "display_name": "Python 3",
   "language": "python",
   "name": "python3"
  },
  "language_info": {
   "codemirror_mode": {
    "name": "ipython",
    "version": 3
   },
   "file_extension": ".py",
   "mimetype": "text/x-python",
   "name": "python",
   "nbconvert_exporter": "python",
   "pygments_lexer": "ipython3",
   "version": "3.12.3"
  }
 },
 "nbformat": 4,
 "nbformat_minor": 2
}
