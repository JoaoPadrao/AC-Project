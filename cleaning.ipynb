{
 "cells": [
  {
   "cell_type": "code",
   "execution_count": 1,
   "metadata": {},
   "outputs": [],
   "source": [
    "import pandas as pd\n",
    "import matplotlib.pyplot as plt\n",
    "\n",
    "teams = pd.read_csv('data/original/teams.csv')\n",
    "players = pd.read_csv('data/original/players.csv')\n",
    "coaches = pd.read_csv('data/original/coaches.csv')\n",
    "players_teams = pd.read_csv('data/original/players_teams.csv')\n",
    "series_post = pd.read_csv('data/original/series_post.csv')\n",
    "awards_players = pd.read_csv('data/original/awards_players.csv')\n",
    "teams_post = pd.read_csv('data/original/teams_post.csv')"
   ]
  },
  {
   "cell_type": "code",
   "execution_count": 2,
   "metadata": {},
   "outputs": [],
   "source": [
    "# Function to get columns with only one value\n",
    "def get_empty_columns(data):\n",
    "    for column in data.columns:\n",
    "        if data[column].nunique() == 1:\n",
    "            print(\"Column with \" + str(data[column].nunique()) + \" unique values: \" + column)"
   ]
  },
  {
   "cell_type": "markdown",
   "metadata": {},
   "source": [
    "### Empty columns in Teams"
   ]
  },
  {
   "cell_type": "code",
   "execution_count": 3,
   "metadata": {},
   "outputs": [
    {
     "name": "stdout",
     "output_type": "stream",
     "text": [
      "Column with 1 unique values: lgID\n",
      "Column with 1 unique values: seeded\n",
      "Column with 1 unique values: tmORB\n",
      "Column with 1 unique values: tmDRB\n",
      "Column with 1 unique values: tmTRB\n",
      "Column with 1 unique values: opptmORB\n",
      "Column with 1 unique values: opptmDRB\n",
      "Column with 1 unique values: opptmTRB\n"
     ]
    }
   ],
   "source": [
    "get_empty_columns(teams)"
   ]
  },
  {
   "cell_type": "markdown",
   "metadata": {},
   "source": [
    "### Drop columns that are not needed or have only one value - Teams"
   ]
  },
  {
   "cell_type": "code",
   "execution_count": 4,
   "metadata": {},
   "outputs": [],
   "source": [
    "# Drop the columns that are not needed or have only one value\n",
    "teams = teams.drop(columns=['lgID', 'divID', 'seeded', 'arena', 'name', 'tmORB', 'tmDRB', 'tmTRB', 'opptmORB', 'opptmDRB', 'opptmTRB', 'attend'])"
   ]
  },
  {
   "cell_type": "markdown",
   "metadata": {},
   "source": [
    "### Empty columns in Players"
   ]
  },
  {
   "cell_type": "code",
   "execution_count": 5,
   "metadata": {},
   "outputs": [
    {
     "name": "stdout",
     "output_type": "stream",
     "text": [
      "Column with 1 unique values: firstseason\n",
      "Column with 1 unique values: lastseason\n"
     ]
    }
   ],
   "source": [
    "get_empty_columns(players)"
   ]
  },
  {
   "cell_type": "markdown",
   "metadata": {},
   "source": [
    "### Drop columns that are not needed or have only one value - Players"
   ]
  },
  {
   "cell_type": "code",
   "execution_count": 6,
   "metadata": {},
   "outputs": [],
   "source": [
    "# Drop the columns that are not needed or have only one value\n",
    "\n",
    "players = players.drop(columns=['firstseason', 'lastseason', 'college', 'collegeOther', 'deathDate'])\n"
   ]
  },
  {
   "cell_type": "markdown",
   "metadata": {},
   "source": [
    "### Remove irrelevant awards "
   ]
  },
  {
   "cell_type": "code",
   "execution_count": 7,
   "metadata": {},
   "outputs": [],
   "source": [
    "# Remove sportsmanship awards from awards_players\n",
    "\n",
    "awards_players = awards_players[awards_players['award'] != 'Kim Perrot Sportsmanship']\n",
    "awards_players = awards_players[awards_players['award'] != 'Kim Perrot Sportsmanship Award']"
   ]
  },
  {
   "cell_type": "markdown",
   "metadata": {},
   "source": [
    "### Empty columns in Coaches"
   ]
  },
  {
   "cell_type": "code",
   "execution_count": 8,
   "metadata": {},
   "outputs": [
    {
     "name": "stdout",
     "output_type": "stream",
     "text": [
      "Column with 1 unique values: lgID\n"
     ]
    }
   ],
   "source": [
    "get_empty_columns(coaches)"
   ]
  },
  {
   "cell_type": "markdown",
   "metadata": {},
   "source": [
    "### Drop columns that are not needed or have only one value - Coaches"
   ]
  },
  {
   "cell_type": "code",
   "execution_count": 9,
   "metadata": {},
   "outputs": [],
   "source": [
    "# Drop the columns that are not needed or have only one value\n",
    "\n",
    "coaches = coaches.drop(columns=['lgID','post_wins',\"post_losses\"])"
   ]
  },
  {
   "cell_type": "markdown",
   "metadata": {},
   "source": [
    "### Empty columns in Player Teams"
   ]
  },
  {
   "cell_type": "code",
   "execution_count": 10,
   "metadata": {},
   "outputs": [
    {
     "name": "stdout",
     "output_type": "stream",
     "text": [
      "Column with 1 unique values: lgID\n"
     ]
    }
   ],
   "source": [
    "get_empty_columns(players_teams)"
   ]
  },
  {
   "cell_type": "markdown",
   "metadata": {},
   "source": [
    "### Drop Players without BIO Information"
   ]
  },
  {
   "cell_type": "code",
   "execution_count": 11,
   "metadata": {},
   "outputs": [
    {
     "name": "stdout",
     "output_type": "stream",
     "text": [
      "893\n"
     ]
    }
   ],
   "source": [
    "# check if any ids from players are not in players_teams and drop them from players if their weight is 0\n",
    "\n",
    "players_ids = players['bioID'].unique()\n",
    "players_teams_ids = players_teams['playerID'].unique()\n",
    "\n",
    "print(len(players_ids))\n",
    "for player_id in players_ids:\n",
    "    if player_id not in players_teams_ids:\n",
    "        # Drop only if weight and height are 0 and birthDate is 0000-00-00\n",
    "        if players.loc[players['bioID'] == player_id, 'weight'].values[0] == 0 and players.loc[players['bioID'] == player_id, 'height'].values[0] == 0 and players.loc[players['bioID'] == player_id, 'birthDate'].values[0] == '0000-00-00':\n",
    "            players = players[players.bioID != player_id]"
   ]
  },
  {
   "cell_type": "markdown",
   "metadata": {},
   "source": [
    "### Drop columns that are not needed or have only one value - Player Teams"
   ]
  },
  {
   "cell_type": "code",
   "execution_count": 12,
   "metadata": {},
   "outputs": [],
   "source": [
    "# Drop the columns that are not needed or have only one value\n",
    "\n",
    "players_teams = players_teams.drop(columns=['lgID'])"
   ]
  },
  {
   "cell_type": "code",
   "execution_count": 13,
   "metadata": {},
   "outputs": [],
   "source": [
    "teams.to_csv('data/clean/cleaned_teams.csv', index=False)\n",
    "players.to_csv('data/clean/cleaned_players.csv', index=False)\n",
    "coaches.to_csv('data/clean/cleaned_coaches.csv', index=False)\n",
    "players_teams.to_csv('data/clean/cleaned_players_teams.csv', index=False)\n",
    "awards_players.to_csv('data/clean/cleaned_awards_players.csv', index=False)"
   ]
  }
 ],
 "metadata": {
  "kernelspec": {
   "display_name": "Python 3",
   "language": "python",
   "name": "python3"
  },
  "language_info": {
   "codemirror_mode": {
    "name": "ipython",
    "version": 3
   },
   "file_extension": ".py",
   "mimetype": "text/x-python",
   "name": "python",
   "nbconvert_exporter": "python",
   "pygments_lexer": "ipython3",
   "version": "3.11.9"
  }
 },
 "nbformat": 4,
 "nbformat_minor": 2
}
