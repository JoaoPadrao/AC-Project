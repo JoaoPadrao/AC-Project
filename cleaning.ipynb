{
 "cells": [
  {
   "cell_type": "code",
   "execution_count": 1,
   "metadata": {},
   "outputs": [],
   "source": [
    "import pandas as pd\n",
    "\n",
    "teams = pd.read_csv('data/original/teams.csv')\n",
    "players = pd.read_csv('data/original/players.csv')\n",
    "coaches = pd.read_csv('data/original/coaches.csv')\n",
    "players_teams = pd.read_csv('data/original/players_teams.csv')\n",
    "series_post = pd.read_csv('data/original/series_post.csv')\n",
    "awards_players = pd.read_csv('data/original/awards_players.csv')\n",
    "teams_post = pd.read_csv('data/original/teams_post.csv')"
   ]
  },
  {
   "cell_type": "code",
   "execution_count": 2,
   "metadata": {},
   "outputs": [],
   "source": [
    "# Function to get columns with only one value\n",
    "def get_empty_columns(data):\n",
    "    for column in data.columns:\n",
    "        if data[column].nunique() == 1:\n",
    "            print(\"Column with \" + str(data[column].nunique()) + \" unique values: \" + column)"
   ]
  },
  {
   "cell_type": "markdown",
   "metadata": {},
   "source": [
    "## Cleaning teams.csv"
   ]
  },
  {
   "cell_type": "code",
   "execution_count": 3,
   "metadata": {},
   "outputs": [
    {
     "name": "stdout",
     "output_type": "stream",
     "text": [
      "Column with 1 unique values: lgID\n",
      "Column with 1 unique values: seeded\n",
      "Column with 1 unique values: tmORB\n",
      "Column with 1 unique values: tmDRB\n",
      "Column with 1 unique values: tmTRB\n",
      "Column with 1 unique values: opptmORB\n",
      "Column with 1 unique values: opptmDRB\n",
      "Column with 1 unique values: opptmTRB\n"
     ]
    }
   ],
   "source": [
    "get_empty_columns(teams)"
   ]
  },
  {
   "cell_type": "code",
   "execution_count": 4,
   "metadata": {},
   "outputs": [],
   "source": [
    "# Drop the columns that are not needed\n",
    "\n",
    "teams = teams.drop(columns=['lgID', 'franchID', 'divID', 'seeded', 'arena', 'name', 'tmORB', 'tmDRB', 'tmTRB', 'opptmORB', 'opptmDRB', 'opptmTRB'])"
   ]
  },
  {
   "cell_type": "markdown",
   "metadata": {},
   "source": [
    "## Cleaning players.csv"
   ]
  },
  {
   "cell_type": "code",
   "execution_count": 5,
   "metadata": {},
   "outputs": [
    {
     "name": "stdout",
     "output_type": "stream",
     "text": [
      "Column with 1 unique values: firstseason\n",
      "Column with 1 unique values: lastseason\n"
     ]
    }
   ],
   "source": [
    "get_empty_columns(players)"
   ]
  },
  {
   "cell_type": "code",
   "execution_count": 6,
   "metadata": {},
   "outputs": [],
   "source": [
    "# Drop the columns that are not needed\n",
    "\n",
    "players = players.drop(columns=['firstseason', 'lastseason', 'college', 'collegeOther'])\n"
   ]
  },
  {
   "cell_type": "code",
   "execution_count": 7,
   "metadata": {},
   "outputs": [],
   "source": [
    "def convert_height_to_cm(height):\n",
    "    height = int(height)\n",
    "    return int(height * 2.54)\n",
    "\n",
    "def convert_weight_to_kg(weight):\n",
    "    weight = int(weight)\n",
    "    return int(weight * 0.453592)\n",
    "\n",
    "players['height'] = players['height'].apply(convert_height_to_cm)\n",
    "players['weight'] = players['weight'].apply(convert_weight_to_kg)"
   ]
  },
  {
   "cell_type": "code",
   "execution_count": 8,
   "metadata": {},
   "outputs": [],
   "source": [
    "# check if any ids from players are not in players_teams and drop them from players if their weight is 0\n",
    "\n",
    "players_ids = players['bioID'].unique()\n",
    "players_teams_ids = players_teams['playerID'].unique()\n",
    "\n",
    "for player_id in players_ids:\n",
    "    if player_id not in players_teams_ids:\n",
    "        # Drop only if weight and height are 0 and birthDate is 0000-00-00\n",
    "        if players.loc[players['bioID'] == player_id, 'weight'].values[0] == 0 and players.loc[players['bioID'] == player_id, 'height'].values[0] == 0 and players.loc[players['bioID'] == player_id, 'birthDate'].values[0] == '0000-00-00':\n",
    "            players = players[players.bioID != player_id]\n",
    "    "
   ]
  },
  {
   "cell_type": "code",
   "execution_count": 9,
   "metadata": {},
   "outputs": [],
   "source": [
    "# Put the Outliers to 0\n",
    "\n",
    "# Put the height values with <150 cm to 0\n",
    "\n",
    "players.loc[players['height'] < 150, 'height'] = 0\n",
    "\n",
    "# Put the weight values with <54 kg to 0\n",
    "\n",
    "players.loc[players['weight'] < 50, 'weight'] = 0"
   ]
  },
  {
   "cell_type": "code",
   "execution_count": 10,
   "metadata": {},
   "outputs": [
    {
     "name": "stdout",
     "output_type": "stream",
     "text": [
      "{'C': 191, 'F': 185, 'G': 174}\n",
      "{'C': 81, 'F': 74, 'G': 65}\n"
     ]
    }
   ],
   "source": [
    "# Fill the outliers with the average value by position\n",
    "\n",
    "# Get the average height and weight by position\n",
    "\n",
    "dict_pos_height = {}\n",
    "dict_pos_weight = {}\n",
    "for index, row in players.iterrows():\n",
    "    if '-' in row['pos']:\n",
    "        pos = row['pos'].split('-')\n",
    "        pos1 = pos[0]\n",
    "        pos2 = pos[1]\n",
    "        if pos1 not in dict_pos_height:\n",
    "            dict_pos_height[pos1] = []\n",
    "            dict_pos_weight[pos1] = []\n",
    "        if pos2 not in dict_pos_height:\n",
    "            dict_pos_height[pos2] = []\n",
    "            dict_pos_weight[pos2] = []\n",
    "        dict_pos_height[pos1].append(row['height'])\n",
    "        dict_pos_height[pos2].append(row['height'])\n",
    "        dict_pos_weight[pos1].append(row['weight'])\n",
    "        dict_pos_weight[pos2].append(row['weight'])\n",
    "    else:\n",
    "        if row['pos'] not in dict_pos_height:\n",
    "            dict_pos_height[row['pos']] = []\n",
    "            dict_pos_weight[row['pos']] = []\n",
    "        dict_pos_height[row['pos']].append(row['height'])\n",
    "        dict_pos_weight[row['pos']].append(row['weight'])\n",
    "\n",
    "average_height_by_position = {}\n",
    "\n",
    "for key in dict_pos_height:\n",
    "    average_height_by_position[key] = int(sum(dict_pos_height[key]) / len(dict_pos_height[key]))\n",
    "\n",
    "average_weight_by_position = {}\n",
    "\n",
    "for key in dict_pos_weight:\n",
    "    average_weight_by_position[key] = int(sum(dict_pos_weight[key]) / len(dict_pos_weight[key]))\n",
    "\n",
    "\n",
    "print(average_height_by_position)\n",
    "print(average_weight_by_position)\n",
    "\n",
    "\n",
    "# Fill the outliers with the average value by position\n",
    "\n",
    "for index, row in players.iterrows():\n",
    "    if row['height'] == 0:\n",
    "        if '-' in row['pos']:\n",
    "            pos = row['pos'].split('-')\n",
    "            pos1 = pos[0]\n",
    "            pos2 = pos[1]\n",
    "            players.at[index, 'height'] = int((average_height_by_position[pos1] + average_height_by_position[pos2]) / 2)\n",
    "        else:\n",
    "            players.at[index, 'height'] = average_height_by_position[row['pos']]\n",
    "    if row['weight'] == 0:\n",
    "        if '-' in row['pos']:\n",
    "            pos = row['pos'].split('-')\n",
    "            pos1 = pos[0]\n",
    "            pos2 = pos[1]\n",
    "            players.at[index, 'weight'] = int((average_weight_by_position[pos1] + average_weight_by_position[pos2]) / 2)\n",
    "        else:\n",
    "            players.at[index, 'weight'] = average_weight_by_position[row['pos']]\n"
   ]
  },
  {
   "cell_type": "markdown",
   "metadata": {},
   "source": [
    "## Add the awards columns to the players_teams and coaches "
   ]
  },
  {
   "cell_type": "code",
   "execution_count": 11,
   "metadata": {},
   "outputs": [],
   "source": [
    "\n",
    "# Add the awards columns to the players_teams\n",
    "players_teams['award_ASGMVP'] = 0\n",
    "players_teams['award_DPOTY'] = 0\n",
    "players_teams['award_KPS'] = 0\n",
    "players_teams['award_MIP'] = 0\n",
    "players_teams['award_MVP'] = 0\n",
    "players_teams['award_ROTY'] = 0\n",
    "players_teams['award_SWOTY'] = 0\n",
    "players_teams['award_WFMVP'] = 0\n",
    "players_teams['award_WADT'] = 0\n",
    "players_teams['award_WADTHM'] = 0\n",
    "\n",
    "# Add the award column to the coaches\n",
    "coaches['award_COTY'] = 0\n",
    "\n",
    "\n",
    "# Put 1 in the players that won that awards in 1 specific year, based on the awards_players table\n",
    "for index, row in awards_players.iterrows():\n",
    "    player_id = row['playerID']\n",
    "    award_name = row['award']\n",
    "    award_year = row['year']\n",
    "    if award_name == 'All-Star Game Most Valuable Player':\n",
    "        players_teams.loc[(players_teams['playerID'] == player_id) & (players_teams['year'] == award_year), 'award_ASGMVP'] = 1\n",
    "    elif award_name == 'Defensive Player of the Year':\n",
    "        players_teams.loc[(players_teams['playerID'] == player_id) & (players_teams['year'] == award_year), 'award_DPOTY'] = 1\n",
    "    elif award_name == 'Kim Perrot Sportsmanship Award' or award_name == 'Kim Perrot Sportsmanship':\n",
    "        players_teams.loc[(players_teams['playerID'] == player_id) & (players_teams['year'] == award_year), 'award_KPS'] = 1\n",
    "    elif award_name == 'Most Improved Player':\n",
    "        players_teams.loc[(players_teams['playerID'] == player_id) & (players_teams['year'] == award_year), 'award_MIP'] = 1\n",
    "    elif award_name == 'Most Valuable Player':\n",
    "        players_teams.loc[(players_teams['playerID'] == player_id) & (players_teams['year'] == award_year), 'award_MVP'] = 1\n",
    "    elif award_name == 'Rookie of the Year':\n",
    "        players_teams.loc[(players_teams['playerID'] == player_id) & (players_teams['year'] == award_year), 'award_ROTY'] = 1\n",
    "    elif award_name == 'Sixth Woman of the Year':\n",
    "        players_teams.loc[(players_teams['playerID'] == player_id) & (players_teams['year'] == award_year), 'award_SWOTY'] = 1\n",
    "    elif award_name == 'WNBA Finals Most Valuable Player':\n",
    "        players_teams.loc[(players_teams['playerID'] == player_id) & (players_teams['year'] == award_year), 'award_WFMVP'] = 1\n",
    "    elif award_name == 'WNBA All-Decade Team':\n",
    "        players_teams.loc[(players_teams['playerID'] == player_id) & (players_teams['year'] == award_year), 'award_WADT'] = 1\n",
    "    elif award_name == 'WNBA All Decade Team Honorable Mention':\n",
    "        players_teams.loc[(players_teams['playerID'] == player_id) & (players_teams['year'] == award_year), 'award_WADTHM'] = 1\n",
    "\n",
    "# Put 1 in the coaches that won that awards in 1 specific year, based on the awards_players table\n",
    "for index, row in awards_players.iterrows():\n",
    "    coach_id = row['playerID']\n",
    "    award_name = row['award']\n",
    "    award_year = row['year']\n",
    "    if award_name == 'Coach of the Year':\n",
    "        coaches.loc[(coaches['coachID'] == coach_id) & (coaches['year'] == award_year), 'award_COTY'] = 1\n"
   ]
  },
  {
   "cell_type": "markdown",
   "metadata": {},
   "source": [
    "## Add the post series winrate column to the teams.csv"
   ]
  },
  {
   "cell_type": "code",
   "execution_count": 12,
   "metadata": {},
   "outputs": [],
   "source": [
    "# Add the post series winrate column to the teams.csv\n",
    "\n",
    "teams['post_winrate'] = None\n",
    "\n",
    "for index, row in teams_post.iterrows():\n",
    "    team_id = row['tmID']\n",
    "    year = row['year']\n",
    "    winrate = int((row['W'] / (row['W'] + row['L'])) * 100)\n",
    "    teams.loc[(teams['tmID'] == team_id) & (teams['year'] == year), 'post_winrate'] = winrate\n"
   ]
  },
  {
   "cell_type": "markdown",
   "metadata": {},
   "source": [
    "## Cleaning coaches.csv"
   ]
  },
  {
   "cell_type": "code",
   "execution_count": 13,
   "metadata": {},
   "outputs": [
    {
     "name": "stdout",
     "output_type": "stream",
     "text": [
      "Column with 1 unique values: lgID\n"
     ]
    }
   ],
   "source": [
    "get_empty_columns(coaches)"
   ]
  },
  {
   "cell_type": "code",
   "execution_count": 14,
   "metadata": {},
   "outputs": [],
   "source": [
    "# Drop the columns that are not needed\n",
    "\n",
    "coaches = coaches.drop(columns=['lgID'])"
   ]
  },
  {
   "cell_type": "markdown",
   "metadata": {},
   "source": [
    "## Cleaning players_teams.csv"
   ]
  },
  {
   "cell_type": "code",
   "execution_count": 15,
   "metadata": {},
   "outputs": [],
   "source": [
    "# Drop the columns that are not needed\n",
    "\n",
    "players_teams = players_teams.drop(columns=['lgID'])"
   ]
  },
  {
   "cell_type": "markdown",
   "metadata": {},
   "source": [
    "## Cleaning series_post.csv"
   ]
  },
  {
   "cell_type": "code",
   "execution_count": 16,
   "metadata": {},
   "outputs": [],
   "source": [
    "# Drop the columns that are not needed\n",
    "\n",
    "#series_post = series_post.drop(columns=['lgIDWinner', 'lgIDLoser'])"
   ]
  },
  {
   "cell_type": "code",
   "execution_count": 17,
   "metadata": {},
   "outputs": [],
   "source": [
    "teams.to_csv('data/clean/cleaned_teams.csv', index=False)\n",
    "players.to_csv('data/clean/cleaned_players.csv', index=False)\n",
    "coaches.to_csv('data/clean/cleaned_coaches.csv', index=False)\n",
    "players_teams.to_csv('data/clean/cleaned_players_teams.csv', index=False)\n",
    "#series_post.to_csv('data/clean/cleaned_series_post.csv', index=False)"
   ]
  }
 ],
 "metadata": {
  "kernelspec": {
   "display_name": "Python 3",
   "language": "python",
   "name": "python3"
  },
  "language_info": {
   "codemirror_mode": {
    "name": "ipython",
    "version": 3
   },
   "file_extension": ".py",
   "mimetype": "text/x-python",
   "name": "python",
   "nbconvert_exporter": "python",
   "pygments_lexer": "ipython3",
   "version": "3.11.9"
  }
 },
 "nbformat": 4,
 "nbformat_minor": 2
}
