{
 "cells": [
  {
   "cell_type": "code",
   "execution_count": null,
   "metadata": {},
   "outputs": [],
   "source": [
    "import pandas as pd\n",
    "import matplotlib.pyplot as plt\n",
    "\n",
    "teams = pd.read_csv('data/original/teams.csv')\n",
    "players = pd.read_csv('data/original/players.csv')\n",
    "coaches = pd.read_csv('data/original/coaches.csv')\n",
    "players_teams = pd.read_csv('data/original/players_teams.csv')\n",
    "series_post = pd.read_csv('data/original/series_post.csv')\n",
    "awards_players = pd.read_csv('data/original/awards_players.csv')\n",
    "teams_post = pd.read_csv('data/original/teams_post.csv')"
   ]
  },
  {
   "cell_type": "code",
   "execution_count": null,
   "metadata": {},
   "outputs": [],
   "source": [
    "# Function to get columns with only one value\n",
    "def get_empty_columns(data):\n",
    "    for column in data.columns:\n",
    "        if data[column].nunique() == 1:\n",
    "            print(\"Column with \" + str(data[column].nunique()) + \" unique values: \" + column)"
   ]
  },
  {
   "cell_type": "markdown",
   "metadata": {},
   "source": [
    "## Cleaning teams.csv"
   ]
  },
  {
   "cell_type": "code",
   "execution_count": 47,
   "metadata": {},
   "outputs": [
    {
     "name": "stdout",
     "output_type": "stream",
     "text": [
      "Column with 1 unique values: lgID\n",
      "Column with 1 unique values: seeded\n",
      "Column with 1 unique values: tmORB\n",
      "Column with 1 unique values: tmDRB\n",
      "Column with 1 unique values: tmTRB\n",
      "Column with 1 unique values: opptmORB\n",
      "Column with 1 unique values: opptmDRB\n",
      "Column with 1 unique values: opptmTRB\n"
     ]
    }
   ],
   "source": [
    "get_empty_columns(teams)"
   ]
  },
  {
   "cell_type": "code",
   "execution_count": 48,
   "metadata": {},
   "outputs": [],
   "source": [
    "# Drop the columns that are not needed\n",
    "\n",
    "teams = teams.drop(columns=['lgID', 'divID', 'seeded', 'arena', 'name', 'tmORB', 'tmDRB', 'tmTRB', 'opptmORB', 'opptmDRB', 'opptmTRB', 'attend'])\n"
   ]
  },
  {
   "cell_type": "code",
   "execution_count": 49,
   "metadata": {},
   "outputs": [
    {
     "data": {
      "text/plain": [
       "'\"\\nteams[\\'post_winrate\\'] = None\\n\\nfor index, row in teams_post.iterrows():\\n    team_id = row[\\'tmID\\']\\n    year = row[\\'year\\']\\n    winrate = int((row[\\'W\\'] / (row[\\'W\\'] + row[\\'L\\'])) * 100)\\n    teams.loc[(teams[\\'tmID\\'] == team_id) & (teams[\\'year\\'] == year), \\'post_winrate\\'] = winrate\\n'"
      ]
     },
     "execution_count": 49,
     "metadata": {},
     "output_type": "execute_result"
    }
   ],
   "source": [
    "# Add the post series winrate column to the teams.csv\n",
    "\"\"\"\"\n",
    "teams['post_winrate'] = None\n",
    "\n",
    "for index, row in teams_post.iterrows():\n",
    "    team_id = row['tmID']\n",
    "    year = row['year']\n",
    "    winrate = int((row['W'] / (row['W'] + row['L'])) * 100)\n",
    "    teams.loc[(teams['tmID'] == team_id) & (teams['year'] == year), 'post_winrate'] = winrate\n",
    "\"\"\""
   ]
  },
  {
   "cell_type": "code",
   "execution_count": 50,
   "metadata": {},
   "outputs": [],
   "source": [
    "\n",
    "def calculate_team_year_stats(team_id, year):\n",
    "    team = teams[teams['tmID'] == team_id]\n",
    "    \n",
    "    # Select player ids for the team for that year\n",
    "    team_players = players_teams[(players_teams['tmID'] == team_id) & (players_teams['year'] == year)]\n",
    "    team_players_bio = players[(players['bioID'].isin(team_players['playerID']))]\n",
    "    \n",
    "    # Add up all the stats in a team_players and add each to a different column in the team dataframe\n",
    "    \n",
    "    teams.loc[(teams['tmID'] == team_id) & (teams['year'] == year), 'player_average_height'] = team_players_bio['height'].mean()\n",
    "    teams.loc[(teams['tmID'] == team_id) & (teams['year'] == year), 'player_average_weight'] = team_players_bio['weight'].mean()\n",
    "    teams.loc[(teams['tmID'] == team_id) & (teams['year'] == year), 'player_total_GP'] = team_players['GP'].sum()\n",
    "    teams.loc[(teams['tmID'] == team_id) & (teams['year'] == year), 'player_total_GS'] = team_players['GS'].sum()\n",
    "    teams.loc[(teams['tmID'] == team_id) & (teams['year'] == year), 'player_total_points'] = team_players['points'].sum()\n",
    "    teams.loc[(teams['tmID'] == team_id) & (teams['year'] == year), 'player_total_oRebounds'] = team_players['oRebounds'].sum()\n",
    "    teams.loc[(teams['tmID'] == team_id) & (teams['year'] == year), 'player_total_dRebounds'] = team_players['dRebounds'].sum()\n",
    "    teams.loc[(teams['tmID'] == team_id) & (teams['year'] == year), 'player_total_rebounds'] = team_players['rebounds'].sum()\n",
    "    teams.loc[(teams['tmID'] == team_id) & (teams['year'] == year), 'player_total_assists'] = team_players['assists'].sum()\n",
    "    teams.loc[(teams['tmID'] == team_id) & (teams['year'] == year), 'player_total_steals'] = team_players['steals'].sum()\n",
    "    teams.loc[(teams['tmID'] == team_id) & (teams['year'] == year), 'player_total_blocks'] = team_players['blocks'].sum()\n",
    "    teams.loc[(teams['tmID'] == team_id) & (teams['year'] == year), 'player_total_turnovers'] = team_players['turnovers'].sum()\n",
    "    teams.loc[(teams['tmID'] == team_id) & (teams['year'] == year), 'player_total_PF'] = team_players['PF'].sum()\n",
    "    teams.loc[(teams['tmID'] == team_id) & (teams['year'] == year), 'player_total_fgAttempted'] = team_players['fgAttempted'].sum()\n",
    "    teams.loc[(teams['tmID'] == team_id) & (teams['year'] == year), 'player_total_fgMade'] = team_players['fgMade'].sum()\n",
    "    teams.loc[(teams['tmID'] == team_id) & (teams['year'] == year), 'player_total_ftAttempted'] = team_players['ftAttempted'].sum()\n",
    "    teams.loc[(teams['tmID'] == team_id) & (teams['year'] == year), 'player_total_ftMade'] = team_players['ftMade'].sum()\n",
    "    teams.loc[(teams['tmID'] == team_id) & (teams['year'] == year), 'player_total_threeAttempted'] = team_players['threeAttempted'].sum()\n",
    "    teams.loc[(teams['tmID'] == team_id) & (teams['year'] == year), 'player_total_threeMade'] = team_players['threeMade'].sum()\n",
    "    teams.loc[(teams['tmID'] == team_id) & (teams['year'] == year), 'player_total_dq'] = team_players['dq'].sum()\n",
    "    teams.loc[(teams['tmID'] == team_id) & (teams['year'] == year), 'player_total_PostGP'] = team_players['PostGP'].sum()\n",
    "    teams.loc[(teams['tmID'] == team_id) & (teams['year'] == year), 'player_total_PostGS'] = team_players['PostGS'].sum()\n",
    "    teams.loc[(teams['tmID'] == team_id) & (teams['year'] == year), 'player_total_PostMinutes'] = team_players['PostMinutes'].sum()\n",
    "    teams.loc[(teams['tmID'] == team_id) & (teams['year'] == year), 'player_total_PostPoints'] = team_players['PostPoints'].sum()\n",
    "    teams.loc[(teams['tmID'] == team_id) & (teams['year'] == year), 'player_total_PostoRebounds'] = team_players['PostoRebounds'].sum()\n",
    "    teams.loc[(teams['tmID'] == team_id) & (teams['year'] == year), 'player_total_PostdRebounds'] = team_players['PostdRebounds'].sum()\n",
    "    teams.loc[(teams['tmID'] == team_id) & (teams['year'] == year), 'player_total_PostRebounds'] = team_players['PostRebounds'].sum()\n",
    "    teams.loc[(teams['tmID'] == team_id) & (teams['year'] == year), 'player_total_PostAssists'] = team_players['PostAssists'].sum()\n",
    "    teams.loc[(teams['tmID'] == team_id) & (teams['year'] == year), 'player_total_PostSteals'] = team_players['PostSteals'].sum()\n",
    "    teams.loc[(teams['tmID'] == team_id) & (teams['year'] == year), 'player_total_PostBlocks'] = team_players['PostBlocks'].sum()\n",
    "    teams.loc[(teams['tmID'] == team_id) & (teams['year'] == year), 'player_total_PostTurnovers'] = team_players['PostTurnovers'].sum()\n",
    "    teams.loc[(teams['tmID'] == team_id) & (teams['year'] == year), 'player_total_PostPF'] = team_players['PostPF'].sum()\n",
    "    teams.loc[(teams['tmID'] == team_id) & (teams['year'] == year), 'player_total_PostfgAttempted'] = team_players['PostfgAttempted'].sum()\n",
    "    teams.loc[(teams['tmID'] == team_id) & (teams['year'] == year), 'player_total_PostfgMade'] = team_players['PostfgMade'].sum()\n",
    "    teams.loc[(teams['tmID'] == team_id) & (teams['year'] == year), 'player_total_PostftAttempted'] = team_players['PostftAttempted'].sum()\n",
    "    teams.loc[(teams['tmID'] == team_id) & (teams['year'] == year), 'player_total_PostftMade'] = team_players['PostftMade'].sum()\n",
    "    teams.loc[(teams['tmID'] == team_id) & (teams['year'] == year), 'player_total_PostthreeAttempted'] = team_players['PostthreeAttempted'].sum()\n",
    "    teams.loc[(teams['tmID'] == team_id) & (teams['year'] == year), 'player_total_PostthreeMade'] = team_players['PostthreeMade'].sum()\n",
    "    teams.loc[(teams['tmID'] == team_id) & (teams['year'] == year), 'player_total_PostDQ'] = team_players['PostDQ'].sum()\n",
    "    teams.loc[(teams['tmID'] == team_id) & (teams['year'] == year), 'player_total_awards'] = team_players['TotalAwards'].sum()\n",
    "    \n",
    "\n",
    "    "
   ]
  },
  {
   "cell_type": "markdown",
   "metadata": {},
   "source": [
    "## Cleaning players.csv"
   ]
  },
  {
   "cell_type": "code",
   "execution_count": 51,
   "metadata": {},
   "outputs": [
    {
     "name": "stdout",
     "output_type": "stream",
     "text": [
      "Column with 1 unique values: firstseason\n",
      "Column with 1 unique values: lastseason\n"
     ]
    }
   ],
   "source": [
    "get_empty_columns(players)"
   ]
  },
  {
   "cell_type": "code",
   "execution_count": 52,
   "metadata": {},
   "outputs": [],
   "source": [
    "# Drop the columns that are not needed\n",
    "\n",
    "players = players.drop(columns=['firstseason', 'lastseason', 'college', 'collegeOther', 'deathDate'])\n"
   ]
  },
  {
   "cell_type": "code",
   "execution_count": 53,
   "metadata": {},
   "outputs": [],
   "source": [
    "def convert_height_to_cm(height):\n",
    "    height = int(height)\n",
    "    return int(height * 2.54)\n",
    "\n",
    "def convert_weight_to_kg(weight):\n",
    "    weight = int(weight)\n",
    "    return int(weight * 0.453592)\n",
    "\n",
    "players['height'] = players['height'].apply(convert_height_to_cm)\n",
    "players['weight'] = players['weight'].apply(convert_weight_to_kg)"
   ]
  },
  {
   "cell_type": "code",
   "execution_count": 54,
   "metadata": {},
   "outputs": [],
   "source": [
    "# check if any ids from players are not in players_teams and drop them from players if their weight is 0\n",
    "\n",
    "players_ids = players['bioID'].unique()\n",
    "players_teams_ids = players_teams['playerID'].unique()\n",
    "\n",
    "for player_id in players_ids:\n",
    "    if player_id not in players_teams_ids:\n",
    "        # Drop only if weight and height are 0 and birthDate is 0000-00-00\n",
    "        if players.loc[players['bioID'] == player_id, 'weight'].values[0] == 0 and players.loc[players['bioID'] == player_id, 'height'].values[0] == 0 and players.loc[players['bioID'] == player_id, 'birthDate'].values[0] == '0000-00-00':\n",
    "            players = players[players.bioID != player_id]\n",
    "    "
   ]
  },
  {
   "cell_type": "code",
   "execution_count": 55,
   "metadata": {},
   "outputs": [
    {
     "name": "stdout",
     "output_type": "stream",
     "text": [
      "{'C': 191, 'F': 185, 'G': 174}\n",
      "{'C': 81, 'F': 74, 'G': 65}\n"
     ]
    }
   ],
   "source": [
    "# Put the Outliers to 0\n",
    "\n",
    "# Put the height values with <150 cm to 0\n",
    "\n",
    "players.loc[players['height'] < 150, 'height'] = 0\n",
    "\n",
    "# Put the weight values with <50 kg to 0\n",
    "\n",
    "players.loc[players['weight'] < 50, 'weight'] = 0\n",
    "\n",
    "# Fill the outliers with the average value by position\n",
    "\n",
    "# Get the average height and weight by position\n",
    "\n",
    "dict_pos_height = {}\n",
    "dict_pos_weight = {}\n",
    "for index, row in players.iterrows():\n",
    "    if '-' in row['pos']:\n",
    "        pos = row['pos'].split('-')\n",
    "        pos1 = pos[0]\n",
    "        pos2 = pos[1]\n",
    "        if pos1 not in dict_pos_height:\n",
    "            dict_pos_height[pos1] = []\n",
    "            dict_pos_weight[pos1] = []\n",
    "        if pos2 not in dict_pos_height:\n",
    "            dict_pos_height[pos2] = []\n",
    "            dict_pos_weight[pos2] = []\n",
    "        dict_pos_height[pos1].append(row['height'])\n",
    "        dict_pos_height[pos2].append(row['height'])\n",
    "        dict_pos_weight[pos1].append(row['weight'])\n",
    "        dict_pos_weight[pos2].append(row['weight'])\n",
    "    else:\n",
    "        if row['pos'] not in dict_pos_height:\n",
    "            dict_pos_height[row['pos']] = []\n",
    "            dict_pos_weight[row['pos']] = []\n",
    "        dict_pos_height[row['pos']].append(row['height'])\n",
    "        dict_pos_weight[row['pos']].append(row['weight'])\n",
    "\n",
    "average_height_by_position = {}\n",
    "\n",
    "for key in dict_pos_height:\n",
    "    average_height_by_position[key] = int(sum(dict_pos_height[key]) / len(dict_pos_height[key]))\n",
    "\n",
    "average_weight_by_position = {}\n",
    "\n",
    "for key in dict_pos_weight:\n",
    "    average_weight_by_position[key] = int(sum(dict_pos_weight[key]) / len(dict_pos_weight[key]))\n",
    "\n",
    "\n",
    "print(average_height_by_position)\n",
    "print(average_weight_by_position)\n",
    "\n",
    "\n",
    "# Fill the outliers with the average value by position\n",
    "\n",
    "for index, row in players.iterrows():\n",
    "    if row['height'] == 0:\n",
    "        if '-' in row['pos']:\n",
    "            pos = row['pos'].split('-')\n",
    "            pos1 = pos[0]\n",
    "            pos2 = pos[1]\n",
    "            players.at[index, 'height'] = int((average_height_by_position[pos1] + average_height_by_position[pos2]) / 2)\n",
    "        else:\n",
    "            players.at[index, 'height'] = average_height_by_position[row['pos']]\n",
    "    if row['weight'] == 0:\n",
    "        if '-' in row['pos']:\n",
    "            pos = row['pos'].split('-')\n",
    "            pos1 = pos[0]\n",
    "            pos2 = pos[1]\n",
    "            players.at[index, 'weight'] = int((average_weight_by_position[pos1] + average_weight_by_position[pos2]) / 2)\n",
    "        else:\n",
    "            players.at[index, 'weight'] = average_weight_by_position[row['pos']]\n"
   ]
  },
  {
   "cell_type": "markdown",
   "metadata": {},
   "source": [
    "## Remove irrelevant awards "
   ]
  },
  {
   "cell_type": "code",
   "execution_count": 56,
   "metadata": {},
   "outputs": [],
   "source": [
    "# Remove sportsmanship awards from awards_players\n",
    "\n",
    "awards_players = awards_players[awards_players['award'] != 'Kim Perrot Sportsmanship']\n",
    "awards_players = awards_players[awards_players['award'] != 'Kim Perrot Sportsmanship Award']"
   ]
  },
  {
   "cell_type": "markdown",
   "metadata": {},
   "source": [
    "###"
   ]
  },
  {
   "cell_type": "markdown",
   "metadata": {},
   "source": [
    "## Add the awards columns to the players_teams and coaches "
   ]
  },
  {
   "cell_type": "code",
   "execution_count": 57,
   "metadata": {},
   "outputs": [],
   "source": [
    "players_teams['TotalAwards'] = 0\n",
    "coaches['TotalAwards'] = 0\n",
    "\n",
    "\n",
    "for index, row in awards_players.iterrows():\n",
    "    player_id = row['playerID']\n",
    "    award_year = row['year']\n",
    "\n",
    "    if player_id in players_teams['playerID'].values:\n",
    "        players_teams.loc[(players_teams['playerID'] == player_id) & (players_teams['year'] == award_year),'TotalAwards'] += 1\n",
    "\n",
    "    if player_id in coaches['coachID'].values:\n",
    "        coaches.loc[(coaches['coachID'] == player_id) & (coaches['year'] == award_year),'TotalAwards'] += 1\n"
   ]
  },
  {
   "cell_type": "markdown",
   "metadata": {},
   "source": [
    "## Add the winrate to the coaches"
   ]
  },
  {
   "cell_type": "code",
   "execution_count": 58,
   "metadata": {},
   "outputs": [],
   "source": [
    "# Add the winrate to the coaches\n",
    "\n",
    "coaches['winrate'] = None\n",
    "\n",
    "for index, row in coaches.iterrows():\n",
    "    coach_id = row['coachID']\n",
    "    year = row['year']\n",
    "    winrate = int((row['won'] / (row['won'] + row['lost'])) * 100)\n",
    "    coaches.loc[(coaches['coachID'] == coach_id) & (coaches['year'] == year), 'winrate'] = winrate\n"
   ]
  },
  {
   "cell_type": "markdown",
   "metadata": {},
   "source": [
    "## Add coach experience to the teams"
   ]
  },
  {
   "cell_type": "code",
   "execution_count": 59,
   "metadata": {},
   "outputs": [],
   "source": [
    "def calculate_coach_experience_for_team(coaches, team_id, year):\n",
    "    team_coaches = coaches[(coaches['tmID'] == team_id) & (coaches['year'] == year)]\n",
    "    total_games = team_coaches['won'].sum() + team_coaches['lost'].sum()\n",
    "    \n",
    "    total_coach_experience = 0\n",
    "    \n",
    "    for _, coach in team_coaches.iterrows():\n",
    "        coach_history = coaches[(coaches['coachID'] == coach['coachID']) & (coaches['year'] < year)]\n",
    "        coach_history = coach_history.sort_values(by='year', ascending=False).head(year)\n",
    "\n",
    "        weights = list(range(year, 0, -1)) \n",
    "        weighted_winrate = sum(coach_history['winrate'] * weights[:len(coach_history)])\n",
    "        total_awards = coach_history['TotalAwards'].sum()\n",
    "        coach_experience = weighted_winrate + total_awards\n",
    "        \n",
    "        coach_games = coach['won'] + coach['lost']\n",
    "        coach_weight = coach_games / total_games if total_games > 0 else 0\n",
    "        total_coach_experience += coach_experience * coach_weight\n",
    "    \n",
    "    return total_coach_experience\n",
    "\n",
    "teams['coach_experience'] = teams.apply(\n",
    "    lambda row: calculate_coach_experience_for_team(coaches, row['tmID'], row['year']), axis=1\n",
    ")\n",
    "\n"
   ]
  },
  {
   "cell_type": "markdown",
   "metadata": {},
   "source": [
    "## Cleaning coaches.csv"
   ]
  },
  {
   "cell_type": "code",
   "execution_count": 60,
   "metadata": {},
   "outputs": [
    {
     "name": "stdout",
     "output_type": "stream",
     "text": [
      "Column with 1 unique values: lgID\n"
     ]
    }
   ],
   "source": [
    "get_empty_columns(coaches)"
   ]
  },
  {
   "cell_type": "code",
   "execution_count": 61,
   "metadata": {},
   "outputs": [],
   "source": [
    "# Drop the columns that are not needed\n",
    "\n",
    "coaches = coaches.drop(columns=['lgID'])"
   ]
  },
  {
   "cell_type": "markdown",
   "metadata": {},
   "source": [
    "## Cleaning players_teams.csv"
   ]
  },
  {
   "cell_type": "code",
   "execution_count": 62,
   "metadata": {},
   "outputs": [],
   "source": [
    "# Drop the columns that are not needed\n",
    "\n",
    "players_teams = players_teams.drop(columns=['lgID'])"
   ]
  },
  {
   "cell_type": "code",
   "execution_count": 63,
   "metadata": {},
   "outputs": [],
   "source": [
    "rookie_players = players_teams.groupby('playerID')['year'].min().reset_index()\n",
    "\n",
    "rookie_players.columns = ['playerID', 'rookie_year']\n",
    "\n",
    "# Dont use the rookie year = 1\n",
    "rookie_players = rookie_players[rookie_players['rookie_year'] != 1]\n",
    "\n",
    "players_teams_with_rookies = pd.merge(players_teams, rookie_players, on='playerID', how='left')\n",
    "\n",
    "\n",
    "rookie_stats = players_teams_with_rookies[players_teams_with_rookies['year'] == players_teams_with_rookies['rookie_year']]\n",
    "\n",
    "\n",
    "excluded_columns = ['playerID', 'year', 'stint', 'tmID', 'rookie_year']\n",
    "rookie_avg_stats = rookie_stats.drop(columns=excluded_columns).mean().astype(int)\n",
    "\n",
    "average_rookie = pd.DataFrame([rookie_avg_stats])\n",
    "\n",
    "average_rookie['playerID'] = \"average_rookie\"\n",
    "average_rookie['year'] = 0\n",
    "average_rookie['stint'] = 0\n",
    "\n",
    "average_rookie = average_rookie[['playerID', 'year', 'stint'] + list(rookie_avg_stats.index)]\n",
    "\n",
    "players_teams= pd.concat([players_teams, average_rookie], ignore_index=True)\n",
    "\n"
   ]
  },
  {
   "cell_type": "code",
   "execution_count": 64,
   "metadata": {},
   "outputs": [],
   "source": [
    "# apply to all teams\n",
    "for index, row in teams.iterrows():\n",
    "    calculate_team_year_stats(row['tmID'], row['year'])"
   ]
  },
  {
   "cell_type": "code",
   "execution_count": 65,
   "metadata": {},
   "outputs": [],
   "source": [
    "teams.to_csv('data/clean/cleaned_teams.csv', index=False)\n",
    "players.to_csv('data/clean/cleaned_players.csv', index=False)\n",
    "coaches.to_csv('data/clean/cleaned_coaches.csv', index=False)\n",
    "players_teams.to_csv('data/clean/cleaned_players_teams.csv', index=False)\n",
    "awards_players.to_csv('data/clean/cleaned_awards_players.csv', index=False)"
   ]
  }
 ],
 "metadata": {
  "kernelspec": {
   "display_name": "Python 3",
   "language": "python",
   "name": "python3"
  },
  "language_info": {
   "codemirror_mode": {
    "name": "ipython",
    "version": 3
   },
   "file_extension": ".py",
   "mimetype": "text/x-python",
   "name": "python",
   "nbconvert_exporter": "python",
   "pygments_lexer": "ipython3",
   "version": "3.11.9"
  }
 },
 "nbformat": 4,
 "nbformat_minor": 2
}
