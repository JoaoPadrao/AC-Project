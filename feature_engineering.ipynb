{
 "cells": [
  {
   "cell_type": "code",
   "execution_count": 247,
   "metadata": {},
   "outputs": [
    {
     "data": {
      "text/plain": [
       "'\"\\nteams[\\'post_winrate\\'] = None\\n\\nfor index, row in teams_post.iterrows():\\n    team_id = row[\\'tmID\\']\\n    year = row[\\'year\\']\\n    winrate = int((row[\\'W\\'] / (row[\\'W\\'] + row[\\'L\\'])) * 100)\\n    teams.loc[(teams[\\'tmID\\'] == team_id) & (teams[\\'year\\'] == year), \\'post_winrate\\'] = winrate\\n'"
      ]
     },
     "execution_count": 247,
     "metadata": {},
     "output_type": "execute_result"
    }
   ],
   "source": [
    "# Add the post series winrate column to the teams.csv\n",
    "\"\"\"\"\n",
    "teams['post_winrate'] = None\n",
    "\n",
    "for index, row in teams_post.iterrows():\n",
    "    team_id = row['tmID']\n",
    "    year = row['year']\n",
    "    winrate = int((row['W'] / (row['W'] + row['L'])) * 100)\n",
    "    teams.loc[(teams['tmID'] == team_id) & (teams['year'] == year), 'post_winrate'] = winrate\n",
    "\"\"\""
   ]
  },
  {
   "cell_type": "code",
   "execution_count": 248,
   "metadata": {},
   "outputs": [],
   "source": [
    "import pandas as pd\n",
    "\n",
    "coaches = pd.read_csv('data/clean/cleaned_coaches.csv')\n",
    "players_teams = pd.read_csv('data/clean/cleaned_players_teams.csv')\n",
    "awards_players = pd.read_csv('data/clean/cleaned_awards_players.csv')\n",
    "teams = pd.read_csv('data/clean/cleaned_teams.csv')\n",
    "players = pd.read_csv('data/clean/cleaned_players.csv')"
   ]
  },
  {
   "cell_type": "markdown",
   "metadata": {},
   "source": [
    "### Feature Engineering: Coach Experience & Awards"
   ]
  },
  {
   "cell_type": "markdown",
   "metadata": {},
   "source": [
    "#### Coach Winrate"
   ]
  },
  {
   "cell_type": "code",
   "execution_count": 249,
   "metadata": {},
   "outputs": [],
   "source": [
    "# Add the winrate to the coaches\n",
    "\n",
    "coaches['winrate'] = None\n",
    "\n",
    "for index, row in coaches.iterrows():\n",
    "    coach_id = row['coachID']\n",
    "    year = row['year']\n",
    "    winrate = int((row['won'] / (row['won'] + row['lost'])) * 100)\n",
    "    coaches.loc[(coaches['coachID'] == coach_id) & (coaches['year'] == year), 'winrate'] = winrate"
   ]
  },
  {
   "cell_type": "markdown",
   "metadata": {},
   "source": [
    "#### Total Awards for each Coach and Player"
   ]
  },
  {
   "cell_type": "code",
   "execution_count": 250,
   "metadata": {},
   "outputs": [],
   "source": [
    "players_teams['TotalAwards'] = 0\n",
    "coaches['TotalAwards'] = 0\n",
    "\n",
    "\n",
    "for index, row in awards_players.iterrows():\n",
    "    player_id = row['playerID']\n",
    "    award_year = row['year']\n",
    "\n",
    "    if player_id in players_teams['playerID'].values:\n",
    "        players_teams.loc[(players_teams['playerID'] == player_id) & (players_teams['year'] == award_year),'TotalAwards'] += 1\n",
    "\n",
    "    if player_id in coaches['coachID'].values:\n",
    "        coaches.loc[(coaches['coachID'] == player_id) & (coaches['year'] == award_year),'TotalAwards'] += 1\n"
   ]
  },
  {
   "cell_type": "markdown",
   "metadata": {},
   "source": [
    "#### Coach Experience"
   ]
  },
  {
   "cell_type": "code",
   "execution_count": 251,
   "metadata": {},
   "outputs": [],
   "source": [
    "def calculate_coach_experience_for_team(coaches, team_id, year):\n",
    "    team_coaches = coaches[(coaches['tmID'] == team_id) & (coaches['year'] == year)]\n",
    "    total_games = team_coaches['won'].sum() + team_coaches['lost'].sum()\n",
    "    \n",
    "    total_coach_experience = 0\n",
    "    \n",
    "    for _, coach in team_coaches.iterrows():\n",
    "        coach_history = coaches[(coaches['coachID'] == coach['coachID']) & (coaches['year'] < year)]\n",
    "        coach_history = coach_history.sort_values(by='year', ascending=False).head(year)\n",
    "\n",
    "        weights = list(range(year, 0, -1)) \n",
    "        weighted_winrate = sum(coach_history['winrate'] * weights[:len(coach_history)])\n",
    "        total_awards = coach_history['TotalAwards'].sum()\n",
    "        coach_experience = weighted_winrate + total_awards\n",
    "        \n",
    "        coach_games = coach['won'] + coach['lost']\n",
    "        coach_weight = coach_games / total_games if total_games > 0 else 0\n",
    "        total_coach_experience += coach_experience * coach_weight\n",
    "    \n",
    "    return total_coach_experience\n",
    "\n",
    "teams['coach_experience'] = teams.apply(\n",
    "    lambda row: calculate_coach_experience_for_team(coaches, row['tmID'], row['year']), axis=1\n",
    ")\n",
    "\n"
   ]
  },
  {
   "cell_type": "markdown",
   "metadata": {},
   "source": [
    "### Feature Engineering: Team Yearly Stats\n"
   ]
  },
  {
   "cell_type": "markdown",
   "metadata": {},
   "source": [
    "#### Teams Stats Calculation based on the Players Stats"
   ]
  },
  {
   "cell_type": "code",
   "execution_count": 252,
   "metadata": {},
   "outputs": [],
   "source": [
    "\n",
    "def calculate_team_year_stats(team_id, year):\n",
    "    \n",
    "    # Select player ids for the team for that year\n",
    "    team_players = players_teams[(players_teams['tmID'] == team_id) & (players_teams['year'] == year)]\n",
    "    team_players_bio = players[(players['bioID'].isin(team_players['playerID']))]\n",
    "    \n",
    "    # Add up all the stats in a team_players and add each to a different column in the team dataframe\n",
    "    \n",
    "    teams.loc[(teams['tmID'] == team_id) & (teams['year'] == year), 'player_average_height'] = team_players_bio['height'].mean()\n",
    "    teams.loc[(teams['tmID'] == team_id) & (teams['year'] == year), 'player_average_weight'] = team_players_bio['weight'].mean()\n",
    "    teams.loc[(teams['tmID'] == team_id) & (teams['year'] == year), 'player_total_GP'] = team_players['GP'].sum()\n",
    "    teams.loc[(teams['tmID'] == team_id) & (teams['year'] == year), 'player_total_GS'] = team_players['GS'].sum()\n",
    "    teams.loc[(teams['tmID'] == team_id) & (teams['year'] == year), 'player_total_points'] = team_players['points'].sum()\n",
    "    teams.loc[(teams['tmID'] == team_id) & (teams['year'] == year), 'player_total_oRebounds'] = team_players['oRebounds'].sum()\n",
    "    teams.loc[(teams['tmID'] == team_id) & (teams['year'] == year), 'player_total_dRebounds'] = team_players['dRebounds'].sum()\n",
    "    teams.loc[(teams['tmID'] == team_id) & (teams['year'] == year), 'player_total_rebounds'] = team_players['rebounds'].sum()\n",
    "    teams.loc[(teams['tmID'] == team_id) & (teams['year'] == year), 'player_total_assists'] = team_players['assists'].sum()\n",
    "    teams.loc[(teams['tmID'] == team_id) & (teams['year'] == year), 'player_total_steals'] = team_players['steals'].sum()\n",
    "    teams.loc[(teams['tmID'] == team_id) & (teams['year'] == year), 'player_total_blocks'] = team_players['blocks'].sum()\n",
    "    teams.loc[(teams['tmID'] == team_id) & (teams['year'] == year), 'player_total_turnovers'] = team_players['turnovers'].sum()\n",
    "    teams.loc[(teams['tmID'] == team_id) & (teams['year'] == year), 'player_total_PF'] = team_players['PF'].sum()\n",
    "    teams.loc[(teams['tmID'] == team_id) & (teams['year'] == year), 'player_total_fgAttempted'] = team_players['fgAttempted'].sum()\n",
    "    teams.loc[(teams['tmID'] == team_id) & (teams['year'] == year), 'player_total_fgMade'] = team_players['fgMade'].sum()\n",
    "    teams.loc[(teams['tmID'] == team_id) & (teams['year'] == year), 'player_total_ftAttempted'] = team_players['ftAttempted'].sum()\n",
    "    teams.loc[(teams['tmID'] == team_id) & (teams['year'] == year), 'player_total_ftMade'] = team_players['ftMade'].sum()\n",
    "    teams.loc[(teams['tmID'] == team_id) & (teams['year'] == year), 'player_total_threeAttempted'] = team_players['threeAttempted'].sum()\n",
    "    teams.loc[(teams['tmID'] == team_id) & (teams['year'] == year), 'player_total_threeMade'] = team_players['threeMade'].sum()\n",
    "    teams.loc[(teams['tmID'] == team_id) & (teams['year'] == year), 'player_total_dq'] = team_players['dq'].sum()\n",
    "    teams.loc[(teams['tmID'] == team_id) & (teams['year'] == year), 'player_total_PostGP'] = team_players['PostGP'].sum()\n",
    "    teams.loc[(teams['tmID'] == team_id) & (teams['year'] == year), 'player_total_PostGS'] = team_players['PostGS'].sum()\n",
    "    teams.loc[(teams['tmID'] == team_id) & (teams['year'] == year), 'player_total_PostMinutes'] = team_players['PostMinutes'].sum()\n",
    "    teams.loc[(teams['tmID'] == team_id) & (teams['year'] == year), 'player_total_PostPoints'] = team_players['PostPoints'].sum()\n",
    "    teams.loc[(teams['tmID'] == team_id) & (teams['year'] == year), 'player_total_PostoRebounds'] = team_players['PostoRebounds'].sum()\n",
    "    teams.loc[(teams['tmID'] == team_id) & (teams['year'] == year), 'player_total_PostdRebounds'] = team_players['PostdRebounds'].sum()\n",
    "    teams.loc[(teams['tmID'] == team_id) & (teams['year'] == year), 'player_total_PostRebounds'] = team_players['PostRebounds'].sum()\n",
    "    teams.loc[(teams['tmID'] == team_id) & (teams['year'] == year), 'player_total_PostAssists'] = team_players['PostAssists'].sum()\n",
    "    teams.loc[(teams['tmID'] == team_id) & (teams['year'] == year), 'player_total_PostSteals'] = team_players['PostSteals'].sum()\n",
    "    teams.loc[(teams['tmID'] == team_id) & (teams['year'] == year), 'player_total_PostBlocks'] = team_players['PostBlocks'].sum()\n",
    "    teams.loc[(teams['tmID'] == team_id) & (teams['year'] == year), 'player_total_PostTurnovers'] = team_players['PostTurnovers'].sum()\n",
    "    teams.loc[(teams['tmID'] == team_id) & (teams['year'] == year), 'player_total_PostPF'] = team_players['PostPF'].sum()\n",
    "    teams.loc[(teams['tmID'] == team_id) & (teams['year'] == year), 'player_total_PostfgAttempted'] = team_players['PostfgAttempted'].sum()\n",
    "    teams.loc[(teams['tmID'] == team_id) & (teams['year'] == year), 'player_total_PostfgMade'] = team_players['PostfgMade'].sum()\n",
    "    teams.loc[(teams['tmID'] == team_id) & (teams['year'] == year), 'player_total_PostftAttempted'] = team_players['PostftAttempted'].sum()\n",
    "    teams.loc[(teams['tmID'] == team_id) & (teams['year'] == year), 'player_total_PostftMade'] = team_players['PostftMade'].sum()\n",
    "    teams.loc[(teams['tmID'] == team_id) & (teams['year'] == year), 'player_total_PostthreeAttempted'] = team_players['PostthreeAttempted'].sum()\n",
    "    teams.loc[(teams['tmID'] == team_id) & (teams['year'] == year), 'player_total_PostthreeMade'] = team_players['PostthreeMade'].sum()\n",
    "    teams.loc[(teams['tmID'] == team_id) & (teams['year'] == year), 'player_total_PostDQ'] = team_players['PostDQ'].sum()\n",
    "    teams.loc[(teams['tmID'] == team_id) & (teams['year'] == year), 'player_total_awards'] = team_players['TotalAwards'].sum()\n",
    "    \n",
    "\n",
    "# apply to all teams\n",
    "for index, row in teams.iterrows():\n",
    "    calculate_team_year_stats(row['tmID'], row['year'])"
   ]
  },
  {
   "cell_type": "markdown",
   "metadata": {},
   "source": [
    "### Feature Engineering: Team Performance Metrics"
   ]
  },
  {
   "cell_type": "code",
   "execution_count": 253,
   "metadata": {},
   "outputs": [],
   "source": [
    "def add_engineered_features(teams):\n",
    "    # Calculate the power of a team by year\n",
    "\n",
    "    # Columns : year,tmID,confID,rank,playoff,firstRound,semis,finals,o_fgm,o_fga,o_ftm,o_fta,o_3pm,o_3pa,o_oreb,o_dreb,o_reb,o_asts,o_pf,o_stl,o_to,o_blk,o_pts,d_fgm,d_fga,d_ftm,d_fta,d_3pm,d_3pa,d_oreb,d_dreb,d_reb,d_asts,d_pf,d_stl,d_to,d_blk,d_pts,won,lost,GP,homeW,homeL,awayW,awayL,confW,confL,min,attend,post_winrate\n",
    "\n",
    "    # Season Performance\n",
    "    teams['winrate'] = teams['won'] / teams['GP']\n",
    "    \n",
    "    teams['home_winrate'] = teams['homeW'] / (teams['homeW'] + teams['homeL'])\n",
    "    \n",
    "    teams['away_winrate'] = teams['awayW'] / (teams['awayW'] + teams['awayL'])\n",
    "    \n",
    "    teams['conf_winrate'] = teams['confW'] / (teams['confW'] + teams['confL'])\n",
    "    # Offensive Statistics\n",
    "\n",
    "    # Field goal percentage\n",
    "    teams['o_fg_pct'] = teams['o_fgm'] / teams['o_fga']\n",
    "\n",
    "    # Free throw percentage\n",
    "    teams['o_ft_pct'] = teams['o_ftm'] / teams['o_fta']\n",
    "\n",
    "    # Three-point percentage\n",
    "    teams['o_3p_pct'] = teams['o_3pm'] / teams['o_3pa']\n",
    "\n",
    "    # Offensive rebound percentage\n",
    "    teams['o_oreb_pct'] = teams['o_oreb'] / teams['o_reb']\n",
    "\n",
    "    # Defensive rebound percentage\n",
    "    teams['o_dreb_pct'] = teams['o_dreb'] / teams['o_reb']\n",
    "\n",
    "\n",
    "    # Defensive Statistics\n",
    "\n",
    "    # Field goal percentage allowed\n",
    "    teams['d_fg_pct'] = teams['d_fgm'] / teams['d_fga']\n",
    "\n",
    "    # Free throw percentage allowed\n",
    "    teams['d_ft_pct'] = teams['d_ftm'] / teams['d_fta']\n",
    "\n",
    "    # Three-point percentage allowed\n",
    "    teams['d_3p_pct'] = teams['d_3pm'] / teams['d_3pa']\n",
    "\n",
    "    # Offensive rebound percentage allowed\n",
    "    teams['d_oreb_pct'] = teams['d_oreb'] / teams['d_reb']\n",
    "\n",
    "    # Defensive rebound percentage allowed\n",
    "    teams['d_dreb_pct'] = teams['d_dreb'] / teams['d_reb']\n",
    "\n",
    "    # Points difference\n",
    "    teams['pts_diff'] = teams['o_pts'] - teams['d_pts']\n",
    "    \n",
    "\n",
    "    return teams\n",
    "\n",
    "teams = add_engineered_features(teams)"
   ]
  },
  {
   "cell_type": "markdown",
   "metadata": {},
   "source": [
    "### Feature Engineering: Rookie Players Stats"
   ]
  },
  {
   "cell_type": "code",
   "execution_count": 254,
   "metadata": {},
   "outputs": [
    {
     "name": "stdout",
     "output_type": "stream",
     "text": [
      "25\n"
     ]
    }
   ],
   "source": [
    "rookie_players = players_teams.groupby('playerID')['year'].min().reset_index()\n",
    "rookie_players.columns = ['playerID', 'rookie_year']\n",
    "\n",
    "players_teams_with_rookies = pd.merge(players_teams, rookie_players, on='playerID', how='left')\n",
    "\n",
    "def calculate_average_rookie_stats(year, players_teams_with_rookies, players_teams):\n",
    "    # For the year 2, the rookies are all the players in the year 1\n",
    "    if year == 2:\n",
    "        rookie_stats = players_teams_with_rookies[players_teams_with_rookies['year'] == 1]\n",
    "    else:\n",
    "        # For the other years, the rookies are the players that are in their rookie year excluding the year 1\n",
    "        rookie_stats_up_to_year = players_teams_with_rookies[players_teams_with_rookies['year'] < year]\n",
    "        rookie_stats_up_to_year = rookie_stats_up_to_year[rookie_stats_up_to_year['year'] != 1] \n",
    "        rookie_stats = rookie_stats_up_to_year[rookie_stats_up_to_year['year'] == rookie_stats_up_to_year['rookie_year']] #\n",
    "\n",
    "    excluded_columns = ['playerID', 'year', 'stint', 'tmID', 'rookie_year']\n",
    "    rookie_avg_stats = rookie_stats.drop(columns=excluded_columns).mean().astype(int)\n",
    "\n",
    "    average_rookie = pd.DataFrame([rookie_avg_stats])\n",
    "    average_rookie['playerID'] = f\"average_rookie_{year}\"\n",
    "    average_rookie['year'] = year\n",
    "    average_rookie['stint'] = 0\n",
    "\n",
    "    average_rookie = average_rookie[['playerID', 'year', 'stint'] + list(rookie_avg_stats.index)]\n",
    "\n",
    "    players_teams = pd.concat([players_teams, average_rookie], ignore_index=True)\n",
    "    \n",
    "    return players_teams\n",
    "\n",
    "def process_rookie_stats(players_teams, players_teams_with_rookies):\n",
    "    # For Year 2-10\n",
    "    for year in range(2, 11):\n",
    "        players_teams = calculate_average_rookie_stats(year, players_teams_with_rookies, players_teams)\n",
    "    return players_teams\n",
    "\n",
    "\n",
    "players_teams = process_rookie_stats(players_teams, players_teams_with_rookies)\n",
    "\n",
    "\n",
    "# Get the rookies in a year\n",
    "def get_rookies_in_year(year):\n",
    "    rookies_in_year = players_teams_with_rookies[\n",
    "        (players_teams_with_rookies['year'] == year) & \n",
    "        (players_teams_with_rookies['year'] == players_teams_with_rookies['rookie_year'])\n",
    "    ]\n",
    "    return rookies_in_year\n",
    "\n",
    "print(len(get_rookies_in_year(10)))\n"
   ]
  },
  {
   "cell_type": "markdown",
   "metadata": {},
   "source": [
    "### Feature Engineering: Rookie Team Stats"
   ]
  },
  {
   "cell_type": "code",
   "execution_count": 255,
   "metadata": {},
   "outputs": [
    {
     "name": "stdout",
     "output_type": "stream",
     "text": [
      "   franchID  rookie_year\n",
      "0       ATL            9\n",
      "1       CHA            1\n",
      "2       CHI            7\n",
      "3       CLE            1\n",
      "4       CON            1\n",
      "5       DET            1\n",
      "6       HOU            1\n",
      "7       IND            1\n",
      "8       LAS            1\n",
      "9       MIA            1\n",
      "10      MIN            1\n",
      "11      NYL            1\n",
      "12      PHO            1\n",
      "13      POR            1\n",
      "14      SAC            1\n",
      "15      SAS            1\n",
      "16      SEA            1\n",
      "17      WAS            1\n"
     ]
    }
   ],
   "source": [
    "rookie_teams = teams.groupby('franchID')['year'].min().reset_index()\n",
    "rookie_teams.columns = ['franchID', 'rookie_year']\n",
    "\n",
    "print(rookie_teams)\n",
    "rookie_team_stats = pd.merge(teams, rookie_teams, on='franchID', how='left')\n",
    "rookie_stats = rookie_team_stats[rookie_team_stats['year'] == rookie_team_stats['rookie_year']]\n",
    "\n",
    "excluded_columns = ['tmID', 'franchID', 'confID', 'year', 'rank', 'playoff','rookie_year']\n",
    "rookie_stats_cleaned = rookie_stats.drop(columns=excluded_columns)\n",
    "\n",
    "average_rookie_team_stats = rookie_stats_cleaned.mean(numeric_only=True).astype(float)\n",
    "\n",
    "average_rookie_team = pd.DataFrame([average_rookie_team_stats])\n",
    "average_rookie_team['year'] = 0  \n",
    "average_rookie_team['tmID'] = \"average_rookie_team\"\n",
    "average_rookie_team['franchID'] = \"average_rookie_franch\"\n",
    "\n",
    "valid_columns = ['tmID', 'franchID', 'year'] + [\n",
    "    col for col in rookie_stats_cleaned.columns if col in average_rookie_team.columns\n",
    "]\n",
    "\n",
    "average_rookie_team = average_rookie_team[valid_columns]\n",
    "\n",
    "teams = pd.concat([teams, average_rookie_team], ignore_index=True)"
   ]
  },
  {
   "cell_type": "markdown",
   "metadata": {},
   "source": [
    "### Save the Data\n"
   ]
  },
  {
   "cell_type": "code",
   "execution_count": 256,
   "metadata": {},
   "outputs": [],
   "source": [
    "# Save the data\n",
    "teams.to_csv('data/clean/cleaned_teams.csv', index=False)\n",
    "coaches.to_csv('data/clean/cleaned_coaches.csv', index=False)\n",
    "players_teams.to_csv('data/clean/cleaned_players_teams.csv', index=False)"
   ]
  }
 ],
 "metadata": {
  "kernelspec": {
   "display_name": "Python 3",
   "language": "python",
   "name": "python3"
  },
  "language_info": {
   "codemirror_mode": {
    "name": "ipython",
    "version": 3
   },
   "file_extension": ".py",
   "mimetype": "text/x-python",
   "name": "python",
   "nbconvert_exporter": "python",
   "pygments_lexer": "ipython3",
   "version": "3.11.9"
  }
 },
 "nbformat": 4,
 "nbformat_minor": 2
}
