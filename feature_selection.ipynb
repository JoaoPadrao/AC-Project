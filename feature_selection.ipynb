{
 "cells": [
  {
   "cell_type": "markdown",
   "metadata": {},
   "source": [
    "### Feature Selection\n"
   ]
  },
  {
   "cell_type": "code",
   "execution_count": 13,
   "metadata": {},
   "outputs": [],
   "source": [
    "import pandas as pd\n",
    "\n",
    "coaches = pd.read_csv('data/clean/cleaned_coaches.csv')\n",
    "players_teams = pd.read_csv('data/clean/cleaned_players_teams.csv')\n",
    "awards_players = pd.read_csv('data/clean/cleaned_awards_players.csv')\n",
    "teams = pd.read_csv('data/clean/cleaned_teams.csv')\n",
    "players = pd.read_csv('data/clean/cleaned_players.csv')"
   ]
  },
  {
   "cell_type": "code",
   "execution_count": 14,
   "metadata": {},
   "outputs": [],
   "source": [
    "#year,tmID,franchID,confID,rank,playoff,firstRound,semis,finals,won,lost,GP,homeW,homeL,awayW,awayL,confW,confL,min,coach_experience,player_average_height,player_average_weight,\n",
    "# player_total_GP,player_total_GS,player_total_points,player_total_oRebounds,player_total_dRebounds,player_total_rebounds,player_total_assists,player_total_steals,player_total_blocks,player_total_turnovers,player_total_PF,player_total_fgAttempted,player_total_fgMade,player_total_ftAttempted,player_total_ftMade,player_total_threeAttempted,player_total_threeMade,player_total_dq,player_total_PostGP,player_total_PostGS,player_total_PostMinutes,player_total_PostPoints,player_total_PostoRebounds,player_total_PostdRebounds,player_total_PostRebounds,player_total_PostAssists,player_total_PostSteals,player_total_PostBlocks,player_total_PostTurnovers,player_total_PostPF,player_total_PostfgAttempted,player_total_PostfgMade,player_total_PostftAttempted,player_total_PostftMade,player_total_PostthreeAttempted,player_total_PostthreeMade,player_total_PostDQ,player_total_awards,winrate,home_winrate,away_winrate,conf_winrate,o_fg_pct,o_ft_pct,o_3p_pct,o_oreb_pct,o_dreb_pct,d_fg_pct,d_ft_pct,d_3p_pct,d_oreb_pct,d_dreb_pct,pts_diff\n",
    "\n",
    "columns_to_drop = [\n",
    "    'o_fgm', 'o_fga', 'o_ftm', 'o_fta', 'o_3pm', 'o_3pa', 'o_oreb', 'o_dreb', 'o_reb', 'o_asts', 'o_pf', 'o_stl', 'o_to', 'o_blk', 'o_pts', # Redudants because they are calculated with the players of each team\n",
    "    'd_fgm', 'd_fga', 'd_ftm', 'd_fta', 'd_3pm', 'd_3pa', 'd_oreb', 'd_dreb', 'd_reb', 'd_asts', 'd_pf', 'd_stl', 'd_to', 'd_blk', 'd_pts', # Redudants because they are calculated with the players of each team\n",
    "]\n",
    "\n",
    "teams = teams.drop(columns=columns_to_drop)\n",
    "\n",
    "teams.to_csv('data/selection/selected_features_teams.csv', index=False)\n",
    "\n",
    "\n",
    "\n",
    "\n"
   ]
  }
 ],
 "metadata": {
  "kernelspec": {
   "display_name": "Python 3",
   "language": "python",
   "name": "python3"
  },
  "language_info": {
   "codemirror_mode": {
    "name": "ipython",
    "version": 3
   },
   "file_extension": ".py",
   "mimetype": "text/x-python",
   "name": "python",
   "nbconvert_exporter": "python",
   "pygments_lexer": "ipython3",
   "version": "3.11.9"
  }
 },
 "nbformat": 4,
 "nbformat_minor": 2
}
